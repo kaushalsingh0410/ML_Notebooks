{
 "cells": [
  {
   "cell_type": "code",
   "execution_count": 1,
   "id": "98662c63",
   "metadata": {},
   "outputs": [],
   "source": [
    "# cross validation:- when we want to choose best model based on accuracy and score in that we use cross validation"
   ]
  },
  {
   "cell_type": "code",
   "execution_count": 2,
   "id": "ee0f4f23",
   "metadata": {},
   "outputs": [],
   "source": [
    "# K Fold Cross Validation\n",
    "# Stratified K fold Cross validation\n",
    "# Leave one out cross validation\n",
    "# Leave p out cross validation"
   ]
  },
  {
   "cell_type": "code",
   "execution_count": null,
   "id": "93b059a4",
   "metadata": {},
   "outputs": [],
   "source": []
  },
  {
   "cell_type": "code",
   "execution_count": 5,
   "id": "5497fda5",
   "metadata": {},
   "outputs": [],
   "source": [
    "import pandas as pd\n",
    "from sklearn.model_selection import train_test_split\n",
    "from sklearn.model_selection import KFold\n",
    "from sklearn.model_selection import StratifiedKFold\n",
    "from sklearn.datasets import *\n",
    "from sklearn.ensemble import RandomForestClassifier\n",
    "from sklearn.linear_model import LogisticRegressionCV\n",
    "from sklearn.tree import DecisionTreeClassifier\n",
    "from sklearn.svm import SVC\n",
    "from sklearn.naive_bayes import MultinomialNB\n",
    "from sklearn.metrics import classification_report,confusion_matrix"
   ]
  },
  {
   "cell_type": "code",
   "execution_count": 6,
   "id": "ecbedf7b",
   "metadata": {},
   "outputs": [],
   "source": [
    "iris = load_iris()"
   ]
  },
  {
   "cell_type": "code",
   "execution_count": 7,
   "id": "38fe99fa",
   "metadata": {},
   "outputs": [
    {
     "data": {
      "text/plain": [
       "dict_keys(['data', 'target', 'frame', 'target_names', 'DESCR', 'feature_names', 'filename', 'data_module'])"
      ]
     },
     "execution_count": 7,
     "metadata": {},
     "output_type": "execute_result"
    }
   ],
   "source": [
    "iris.keys()"
   ]
  },
  {
   "cell_type": "code",
   "execution_count": 41,
   "id": "bd36a032",
   "metadata": {},
   "outputs": [],
   "source": [
    "X_train, X_test, y_train, y_test = train_test_split(iris.data,iris.target,test_size=0.2)"
   ]
  },
  {
   "cell_type": "code",
   "execution_count": 42,
   "id": "ccd10f38",
   "metadata": {},
   "outputs": [],
   "source": [
    "import warnings\n",
    "warnings.filterwarnings('ignore')\n",
    "def model_score(model,X_train, X_test, y_train, y_test):\n",
    "    model.fit(X_train,y_train)\n",
    "    score = model.score(X_test,y_test)\n",
    "    \n",
    "    return score"
   ]
  },
  {
   "cell_type": "code",
   "execution_count": 43,
   "id": "472abdaf",
   "metadata": {},
   "outputs": [
    {
     "data": {
      "text/plain": [
       "0.9666666666666667"
      ]
     },
     "execution_count": 43,
     "metadata": {},
     "output_type": "execute_result"
    }
   ],
   "source": [
    "model_score(RandomForestClassifier(),X_train, X_test, y_train, y_test)"
   ]
  },
  {
   "cell_type": "code",
   "execution_count": 44,
   "id": "5860e9d4",
   "metadata": {},
   "outputs": [],
   "source": [
    "dt_score = model_score(DecisionTreeClassifier(),X_train, X_test, y_train, y_test)\n",
    "rf_score = model_score(RandomForestClassifier(),X_train, X_test, y_train, y_test)\n",
    "lr_score = model_score(LogisticRegressionCV(),X_train, X_test, y_train, y_test)\n",
    "SVM_score = model_score(SVC(),X_train, X_test, y_train, y_test)\n",
    "nb_score = model_score(MultinomialNB(),X_train, X_test, y_train, y_test)"
   ]
  },
  {
   "cell_type": "code",
   "execution_count": 45,
   "id": "2fe6bf76",
   "metadata": {},
   "outputs": [],
   "source": [
    "import matplotlib.pyplot as plt\n",
    "all_score = [dt_score,rf_score,lr_score,SVM_score,nb_score]"
   ]
  },
  {
   "cell_type": "code",
   "execution_count": 46,
   "id": "3c48a4bc",
   "metadata": {},
   "outputs": [],
   "source": [
    "models = ['dt_score','rf_score','lr_score','SVM_score','nb_score']"
   ]
  },
  {
   "cell_type": "code",
   "execution_count": 47,
   "id": "b55c19b1",
   "metadata": {},
   "outputs": [
    {
     "data": {
      "image/png": "[encoded data removed]",
      "text/plain": [
       "<Figure size 640x480 with 1 Axes>"
      ]
     },
     "metadata": {},
     "output_type": "display_data"
    }
   ],
   "source": [
    "ax = plt.bar(models,all_score,color = list('rgbmy'))\n",
    "plt.bar_label(ax)\n",
    "plt.show()"
   ]
  },
  {
   "cell_type": "code",
   "execution_count": 59,
   "id": "438d3631",
   "metadata": {},
   "outputs": [],
   "source": [
    "kf = KFold(n_splits=3)"
   ]
  },
  {
   "cell_type": "code",
   "execution_count": 60,
   "id": "61ba9d9c",
   "metadata": {},
   "outputs": [
    {
     "data": {
      "text/plain": [
       "[(array([3, 4, 5, 6]), array([0, 1, 2])),\n",
       " (array([0, 1, 2, 5, 6]), array([3, 4])),\n",
       " (array([0, 1, 2, 3, 4]), array([5, 6]))]"
      ]
     },
     "execution_count": 60,
     "metadata": {},
     "output_type": "execute_result"
    }
   ],
   "source": [
    "data = ['Aman','Ravi','Karan','Delhi','Akshay','Noida','Faridabad']\n",
    "list(kf.split(data))"
   ]
  },
  {
   "cell_type": "code",
   "execution_count": 62,
   "id": "21856741",
   "metadata": {},
   "outputs": [],
   "source": [
    "var = kf.split(data)"
   ]
  },
  {
   "cell_type": "code",
   "execution_count": 64,
   "id": "e68c5262",
   "metadata": {},
   "outputs": [],
   "source": [
    "# var"
   ]
  },
  {
   "cell_type": "code",
   "execution_count": 66,
   "id": "6200e3c9",
   "metadata": {},
   "outputs": [
    {
     "name": "stdout",
     "output_type": "stream",
     "text": [
      "[3 4 5 6] [0 1 2]\n",
      "[0 1 2 5 6] [3 4]\n",
      "[0 1 2 3 4] [5 6]\n"
     ]
    }
   ],
   "source": [
    "for train_index,test_index in kf.split(data):\n",
    "    print(train_index,test_index)"
   ]
  },
  {
   "cell_type": "code",
   "execution_count": 67,
   "id": "1f7907e1",
   "metadata": {},
   "outputs": [
    {
     "name": "stdout",
     "output_type": "stream",
     "text": [
      "[ 50  51  52  53  54  55  56  57  58  59  60  61  62  63  64  65  66  67\n",
      "  68  69  70  71  72  73  74  75  76  77  78  79  80  81  82  83  84  85\n",
      "  86  87  88  89  90  91  92  93  94  95  96  97  98  99 100 101 102 103\n",
      " 104 105 106 107 108 109 110 111 112 113 114 115 116 117 118 119 120 121\n",
      " 122 123 124 125 126 127 128 129 130 131 132 133 134 135 136 137 138 139\n",
      " 140 141 142 143 144 145 146 147 148 149] [ 0  1  2  3  4  5  6  7  8  9 10 11 12 13 14 15 16 17 18 19 20 21 22 23\n",
      " 24 25 26 27 28 29 30 31 32 33 34 35 36 37 38 39 40 41 42 43 44 45 46 47\n",
      " 48 49]\n",
      "[  0   1   2   3   4   5   6   7   8   9  10  11  12  13  14  15  16  17\n",
      "  18  19  20  21  22  23  24  25  26  27  28  29  30  31  32  33  34  35\n",
      "  36  37  38  39  40  41  42  43  44  45  46  47  48  49 100 101 102 103\n",
      " 104 105 106 107 108 109 110 111 112 113 114 115 116 117 118 119 120 121\n",
      " 122 123 124 125 126 127 128 129 130 131 132 133 134 135 136 137 138 139\n",
      " 140 141 142 143 144 145 146 147 148 149] [50 51 52 53 54 55 56 57 58 59 60 61 62 63 64 65 66 67 68 69 70 71 72 73\n",
      " 74 75 76 77 78 79 80 81 82 83 84 85 86 87 88 89 90 91 92 93 94 95 96 97\n",
      " 98 99]\n",
      "[ 0  1  2  3  4  5  6  7  8  9 10 11 12 13 14 15 16 17 18 19 20 21 22 23\n",
      " 24 25 26 27 28 29 30 31 32 33 34 35 36 37 38 39 40 41 42 43 44 45 46 47\n",
      " 48 49 50 51 52 53 54 55 56 57 58 59 60 61 62 63 64 65 66 67 68 69 70 71\n",
      " 72 73 74 75 76 77 78 79 80 81 82 83 84 85 86 87 88 89 90 91 92 93 94 95\n",
      " 96 97 98 99] [100 101 102 103 104 105 106 107 108 109 110 111 112 113 114 115 116 117\n",
      " 118 119 120 121 122 123 124 125 126 127 128 129 130 131 132 133 134 135\n",
      " 136 137 138 139 140 141 142 143 144 145 146 147 148 149]\n"
     ]
    }
   ],
   "source": [
    "for train_index,test_index in kf.split(iris.data):\n",
    "    print(train_index,test_index)"
   ]
  },
  {
   "cell_type": "code",
   "execution_count": null,
   "id": "ac0bb06f",
   "metadata": {},
   "outputs": [],
   "source": [
    "X_train,X_test,y_train,y_test"
   ]
  },
  {
   "cell_type": "code",
   "execution_count": 71,
   "id": "13173fe0",
   "metadata": {},
   "outputs": [
    {
     "name": "stdout",
     "output_type": "stream",
     "text": [
      "33\n"
     ]
    }
   ],
   "source": [
    "a = 23\\\n",
    "+\\\n",
    "10\n",
    "print(a)"
   ]
  },
  {
   "cell_type": "code",
   "execution_count": null,
   "id": "2c052c94",
   "metadata": {},
   "outputs": [],
   "source": []
  },
  {
   "cell_type": "code",
   "execution_count": 96,
   "id": "03843ed5",
   "metadata": {},
   "outputs": [],
   "source": [
    "dt_score  = []\n",
    "rf_score = []\n",
    "lr_score = []\n",
    "SVM_score= []\n",
    "nb_score = []\n",
    "\n",
    "\n",
    "kf = KFold(n_splits=5)\n",
    "for train_index,test_index in kf.split(iris.data):\n",
    "    X_train,X_test,y_train,y_test = iris.data[train_index],iris.data[test_index],\\\n",
    "                                    iris.target[train_index],iris.target[test_index]\n",
    "    \n",
    "#     print(len(X_train),len(X_test))\n",
    "    dt_score.append(model_score(DecisionTreeClassifier(),X_train, X_test, y_train, y_test))\n",
    "    rf_score.append(model_score(RandomForestClassifier(),X_train, X_test, y_train, y_test))\n",
    "    lr_score.append(model_score(LogisticRegressionCV(),X_train, X_test, y_train, y_test))\n",
    "    SVM_score.append(model_score(SVC(),X_train, X_test, y_train, y_test))\n",
    "    nb_score.append(model_score(MultinomialNB(),X_train, X_test, y_train, y_test))"
   ]
  },
  {
   "cell_type": "code",
   "execution_count": null,
   "id": "ed067827",
   "metadata": {},
   "outputs": [],
   "source": []
  },
  {
   "cell_type": "code",
   "execution_count": 100,
   "id": "f7d0dd95",
   "metadata": {},
   "outputs": [
    {
     "name": "stdout",
     "output_type": "stream",
     "text": [
      "0.9199999999999999\n",
      "0.9066666666666666\n",
      "0.9266666666666665\n",
      "0.8933333333333333\n",
      "0.3933333333333333\n"
     ]
    }
   ],
   "source": [
    "import numpy as np\n",
    "\n",
    "\n",
    "print(np.array(dt_score).mean())\n",
    "print(np.array(rf_score).mean())\n",
    "print(np.array(lr_score).mean())\n",
    "print(np.array(SVM_score).mean())\n",
    "print(np.array(nb_score).mean())"
   ]
  },
  {
   "cell_type": "code",
   "execution_count": null,
   "id": "accecf58",
   "metadata": {},
   "outputs": [],
   "source": []
  },
  {
   "cell_type": "code",
   "execution_count": 108,
   "id": "08051b93",
   "metadata": {},
   "outputs": [],
   "source": [
    "dt_score  = []\n",
    "rf_score = []\n",
    "lr_score = []\n",
    "SVM_score = []\n",
    "nb_score = []\n",
    "\n",
    "\n",
    "kf = StratifiedKFold(n_splits=10)\n",
    "for train_index,test_index in kf.split(iris.data,iris.target):\n",
    "    X_train,X_test,y_train,y_test = iris.data[train_index],iris.data[test_index],\\\n",
    "                                    iris.target[train_index],iris.target[test_index]\n",
    "    \n",
    "#     print(len(X_train),len(X_test))\n",
    "    dt_score.append(model_score(DecisionTreeClassifier(),X_train, X_test, y_train, y_test))\n",
    "    rf_score.append(model_score(RandomForestClassifier(),X_train, X_test, y_train, y_test))\n",
    "    lr_score.append(model_score(LogisticRegressionCV(),X_train, X_test, y_train, y_test))\n",
    "    SVM_score.append(model_score(SVC(),X_train, X_test, y_train, y_test))\n",
    "    nb_score.append(model_score(MultinomialNB(),X_train, X_test, y_train, y_test))"
   ]
  },
  {
   "cell_type": "code",
   "execution_count": null,
   "id": "100ce27d",
   "metadata": {},
   "outputs": [],
   "source": []
  },
  {
   "cell_type": "code",
   "execution_count": 109,
   "id": "f63ecdda",
   "metadata": {},
   "outputs": [
    {
     "name": "stdout",
     "output_type": "stream",
     "text": [
      "0.96\n",
      "0.96\n",
      "0.9733333333333334\n",
      "0.9733333333333334\n",
      "0.9533333333333334\n"
     ]
    }
   ],
   "source": [
    "import numpy as np\n",
    "\n",
    "\n",
    "print(np.array(dt_score).mean())\n",
    "print(np.array(rf_score).mean())\n",
    "print(np.array(lr_score).mean())\n",
    "print(np.array(SVM_score).mean())\n",
    "print(np.array(nb_score).mean())"
   ]
  },
  {
   "cell_type": "code",
   "execution_count": 110,
   "id": "7e580b7a",
   "metadata": {},
   "outputs": [],
   "source": [
    "from sklearn.model_selection import cross_val_score"
   ]
  },
  {
   "cell_type": "code",
   "execution_count": 112,
   "id": "e484be3b",
   "metadata": {},
   "outputs": [
    {
     "data": {
      "text/plain": [
       "[1.0,\n",
       " 0.9333333333333333,\n",
       " 1.0,\n",
       " 0.9333333333333333,\n",
       " 0.9333333333333333,\n",
       " 0.8666666666666667,\n",
       " 0.9333333333333333,\n",
       " 1.0,\n",
       " 1.0,\n",
       " 1.0]"
      ]
     },
     "execution_count": 112,
     "metadata": {},
     "output_type": "execute_result"
    }
   ],
   "source": [
    "dt_score"
   ]
  },
  {
   "cell_type": "code",
   "execution_count": 111,
   "id": "822043a3",
   "metadata": {},
   "outputs": [
    {
     "data": {
      "text/plain": [
       "array([0.96666667, 0.96666667, 0.9       , 1.        , 1.        ])"
      ]
     },
     "execution_count": 111,
     "metadata": {},
     "output_type": "execute_result"
    }
   ],
   "source": [
    "cross_val_score(DecisionTreeClassifier(),iris.data,iris.target)"
   ]
  },
  {
   "cell_type": "code",
   "execution_count": 113,
   "id": "471ff8c6",
   "metadata": {},
   "outputs": [],
   "source": [
    "dt_score = cross_val_score(DecisionTreeClassifier(),iris.data,iris.target)\n",
    "rf_score = cross_val_score(RandomForestClassifier(),iris.data,iris.target)\n",
    "lr_score = cross_val_score(LogisticRegressionCV(),iris.data,iris.target)\n",
    "SVM_score = cross_val_score(SVC(),iris.data,iris.target)\n",
    "nb_score = cross_val_score(MultinomialNB(),iris.data,iris.target)"
   ]
  },
  {
   "cell_type": "code",
   "execution_count": 114,
   "id": "be334a28",
   "metadata": {},
   "outputs": [
    {
     "name": "stdout",
     "output_type": "stream",
     "text": [
      "0.9600000000000002\n",
      "0.9666666666666668\n",
      "0.9733333333333334\n",
      "0.9666666666666666\n",
      "0.9533333333333334\n"
     ]
    }
   ],
   "source": [
    "print((dt_score).mean())\n",
    "print((rf_score).mean())\n",
    "print((lr_score).mean())\n",
    "print((SVM_score).mean())\n",
    "print((nb_score).mean())"
   ]
  },
  {
   "cell_type": "code",
   "execution_count": null,
   "id": "0e1d94fa",
   "metadata": {},
   "outputs": [],
   "source": []
  }
 ],
 "metadata": {
  "kernelspec": {
   "display_name": "Python 3 (ipykernel)",
   "language": "python",
   "name": "python3"
  },
  "language_info": {
   "codemirror_mode": {
    "name": "ipython",
    "version": 3
   },
   "file_extension": ".py",
   "mimetype": "text/x-python",
   "name": "python",
   "nbconvert_exporter": "python",
   "pygments_lexer": "ipython3",
   "version": "3.11.3"
  }
 },
 "nbformat": 4,
 "nbformat_minor": 5
}
