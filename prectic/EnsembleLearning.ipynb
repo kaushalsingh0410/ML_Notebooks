{
 "cells": [
  {
   "cell_type": "code",
   "execution_count": 1,
   "id": "a16baf78-070b-4409-a135-2fec83eea499",
   "metadata": {},
   "outputs": [
    {
     "name": "stdout",
     "output_type": "stream",
     "text": [
      "Ritu\n"
     ]
    }
   ],
   "source": [
    "print('Ritu')"
   ]
  },
  {
   "cell_type": "markdown",
   "id": "f7ebc75a-2e91-4f57-9b13-ecee909ffa3b",
   "metadata": {},
   "source": [
    "# Ensemble Learning\n",
    "Ensemble Learning is a technique that combines multiple machine learning models to improve performance, accuracy, and robustness. Instead of relying on a single model, ensemble methods aggregate predictions from multiple models to reduce bias, variance, and improve generalization."
   ]
  },
  {
   "cell_type": "markdown",
   "id": "deb14152-d213-40df-af6e-b9dc9f044263",
   "metadata": {},
   "source": [
    "# Types of Ensemble Learning\n",
    "1. Bagging (Bootstrap Aggregating)\n",
    "2. Boosting\n",
    "3. Stacking\n",
    "4. Voting & Averaging"
   ]
  },
  {
   "cell_type": "markdown",
   "id": "37129c05-c532-4cab-9819-74ba6fbdb9fd",
   "metadata": {},
   "source": [
    "# Wisdom of the Crowd\n",
    "The Wisdom of the Crowd is a phenomenon where collective decisions made by a group of individuals are often more accurate or reliable than those made by a single expert. This principle is widely used in ensemble learning, recommendation systems, and crowd-sourced intelligence."
   ]
  },
  {
   "cell_type": "raw",
   "id": "aae3ddf3-cbef-4bde-83ae-911d30789b60",
   "metadata": {},
   "source": [
    "Advantages and Disadvantages of Ensemble Learning\n",
    "✅ Advantages of Ensemble Learning\n",
    "1️⃣ Higher Accuracy\n",
    "2️⃣ Reduces Overfitting (Variance Reduction)\n",
    "3️⃣ Works with Weak Models (Bias Reduction)\n",
    "4️⃣ Handles Complex Problems Well\n",
    "5️⃣ Robustness to Noisy Data\n",
    "\n",
    "❌ Disadvantages of Ensemble Learning\n",
    "1️⃣ Computationally Expensive\n",
    "2️⃣ Hard to Interpret\n",
    "3️⃣ Difficult Hyperparameter Tuning\n",
    "4️⃣ May Not Always Improve Performance\n",
    "\n",
    "📌 When to Use Ensemble Learning?\n",
    "✅ When accuracy is more important than speed.\n",
    "✅ When models overfit and need regularization.\n",
    "✅ When handling noisy or high-dimensional data.\n",
    "\n",
    "🔴 Avoid ensemble learning when: ❌ You need a simple, interpretable model.\n",
    "❌ Computational resources are limited.\n",
    "\n"
   ]
  },
  {
   "cell_type": "markdown",
   "id": "b7708d82-b1da-47c9-ad95-9f8022b90760",
   "metadata": {},
   "source": [
    "# Voting Ensemble Learning\n",
    "Voting ensemble learning is a technique that combines multiple models (classifiers or regressors) to improve accuracy. The final prediction is made based on the majority vote (hard voting) or the average probability (soft voting) from all models."
   ]
  },
  {
   "cell_type": "markdown",
   "id": "6e2ed21b-9450-465f-9e2a-0c3c4bc7e6b6",
   "metadata": {},
   "source": [
    "# Types of Voting in Ensemble Learning\n",
    "1️⃣ Hard Voting (Majority Voting)\n",
    "* Each model predicts a class label.\n",
    "* The final prediction is the most frequent class.\n",
    "\n",
    "2️⃣ Soft Voting (Probability Averaging)\n",
    "* Each model outputs class probabilities.\n",
    "* The final prediction is based on the highest average probability.\n",
    "\n",
    "📌 Voting in Regression\n",
    "✅ Only Soft Voting is used for regression because regression models predict continuous values, not class labels.\n"
   ]
  },
  {
   "cell_type": "markdown",
   "id": "f6b5b9ef-f164-4af2-bf43-ce642f14a9a6",
   "metadata": {},
   "source": [
    "# Disadvantages\n",
    "* ❌ Computationally Expensive → Needs multiple models to be trained.\n",
    "* ❌ Not Always Better → If base models are weak, ensemble won’t help."
   ]
  },
  {
   "cell_type": "code",
   "execution_count": null,
   "id": "1aab5e7d-cc40-4c21-9f36-ba3a3a9afe0c",
   "metadata": {},
   "outputs": [],
   "source": []
  }
 ],
 "metadata": {
  "kernelspec": {
   "display_name": "Python 3 (ipykernel)",
   "language": "python",
   "name": "python3"
  },
  "language_info": {
   "codemirror_mode": {
    "name": "ipython",
    "version": 3
   },
   "file_extension": ".py",
   "mimetype": "text/x-python",
   "name": "python",
   "nbconvert_exporter": "python",
   "pygments_lexer": "ipython3",
   "version": "3.12.0"
  }
 },
 "nbformat": 4,
 "nbformat_minor": 5
}
