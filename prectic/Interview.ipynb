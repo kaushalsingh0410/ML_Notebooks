{
 "cells": [
  {
   "cell_type": "code",
   "execution_count": 1,
   "id": "281ada3d-b488-46ee-b0f6-3b969c1022fc",
   "metadata": {},
   "outputs": [
    {
     "name": "stdout",
     "output_type": "stream",
     "text": [
      "ritu\n"
     ]
    }
   ],
   "source": [
    "print('ritu')"
   ]
  },
  {
   "cell_type": "raw",
   "id": "fc94d88a-6828-479d-93ed-54775905f7c6",
   "metadata": {},
   "source": [
    "1. Train data vs Test Data vs Vailidation data\n",
    "2. Why use Random Forest insted of Decision Tree"
   ]
  },
  {
   "cell_type": "code",
   "execution_count": null,
   "id": "64ecece5-1f48-40a9-a7ce-44d1fee663c4",
   "metadata": {},
   "outputs": [],
   "source": []
  }
 ],
 "metadata": {
  "kernelspec": {
   "display_name": "Python 3 (ipykernel)",
   "language": "python",
   "name": "python3"
  },
  "language_info": {
   "codemirror_mode": {
    "name": "ipython",
    "version": 3
   },
   "file_extension": ".py",
   "mimetype": "text/x-python",
   "name": "python",
   "nbconvert_exporter": "python",
   "pygments_lexer": "ipython3",
   "version": "3.12.0"
  }
 },
 "nbformat": 4,
 "nbformat_minor": 5
}
