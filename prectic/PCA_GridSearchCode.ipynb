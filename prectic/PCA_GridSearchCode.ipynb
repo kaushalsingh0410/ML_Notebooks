{
  "cells": [
    {
      "cell_type": "code",
      "execution_count": 1,
      "metadata": {
        "colab": {
          "base_uri": "https://localhost:8080/"
        },
        "id": "Cpkdqgu4zFKD",
        "outputId": "22e786c1-1707-4c22-9651-3b603da052ff"
      },
      "outputs": [
        {
          "output_type": "stream",
          "name": "stdout",
          "text": [
            "Ritu\n"
          ]
        }
      ],
      "source": [
        "print('Ritu')"
      ]
    },
    {
      "cell_type": "code",
      "execution_count": 36,
      "metadata": {
        "id": "NIzaXfRgzJA0"
      },
      "outputs": [],
      "source": [
        "import numpy as np\n",
        "import pandas as pd\n",
        "import matplotlib.pyplot as plt\n",
        "import seaborn as sns\n",
        "import time\n",
        "import warnings\n",
        "warnings.filterwarnings('ignore')\n",
        "\n",
        "# from sklearn.datasets import load_digits\n",
        "from sklearn.model_selection import train_test_split,cross_val_score,GridSearchCV\n",
        "from sklearn.preprocessing import StandardScaler\n",
        "from sklearn.decomposition import PCA\n",
        "from sklearn.linear_model import LogisticRegression\n",
        "from sklearn.metrics import confusion_matrix, classification_report\n",
        "from sklearn.pipeline import Pipeline"
      ]
    },
    {
      "cell_type": "code",
      "execution_count": 3,
      "metadata": {
        "colab": {
          "base_uri": "https://localhost:8080/",
          "height": 255
        },
        "id": "Yz4Nn9Nbzg7q",
        "outputId": "e65183f9-aad6-464f-83ad-9cf34954c1aa"
      },
      "outputs": [
        {
          "output_type": "execute_result",
          "data": {
            "text/plain": [
              "   label  pixel0  pixel1  pixel2  pixel3  pixel4  pixel5  pixel6  pixel7  \\\n",
              "0      1       0       0       0       0       0       0       0       0   \n",
              "1      0       0       0       0       0       0       0       0       0   \n",
              "2      1       0       0       0       0       0       0       0       0   \n",
              "3      4       0       0       0       0       0       0       0       0   \n",
              "4      0       0       0       0       0       0       0       0       0   \n",
              "\n",
              "   pixel8  ...  pixel774  pixel775  pixel776  pixel777  pixel778  pixel779  \\\n",
              "0       0  ...         0         0         0         0         0         0   \n",
              "1       0  ...         0         0         0         0         0         0   \n",
              "2       0  ...         0         0         0         0         0         0   \n",
              "3       0  ...         0         0         0         0         0         0   \n",
              "4       0  ...         0         0         0         0         0         0   \n",
              "\n",
              "   pixel780  pixel781  pixel782  pixel783  \n",
              "0         0         0         0         0  \n",
              "1         0         0         0         0  \n",
              "2         0         0         0         0  \n",
              "3         0         0         0         0  \n",
              "4         0         0         0         0  \n",
              "\n",
              "[5 rows x 785 columns]"
            ],
            "text/html": [
              "\n",
              "  <div id=\"df-5b5ba711-d977-499b-9caa-ebd0196e082b\" class=\"colab-df-container\">\n",
              "    <div>\n",
              "<style scoped>\n",
              "    .dataframe tbody tr th:only-of-type {\n",
              "        vertical-align: middle;\n",
              "    }\n",
              "\n",
              "    .dataframe tbody tr th {\n",
              "        vertical-align: top;\n",
              "    }\n",
              "\n",
              "    .dataframe thead th {\n",
              "        text-align: right;\n",
              "    }\n",
              "</style>\n",
              "<table border=\"1\" class=\"dataframe\">\n",
              "  <thead>\n",
              "    <tr style=\"text-align: right;\">\n",
              "      <th></th>\n",
              "      <th>label</th>\n",
              "      <th>pixel0</th>\n",
              "      <th>pixel1</th>\n",
              "      <th>pixel2</th>\n",
              "      <th>pixel3</th>\n",
              "      <th>pixel4</th>\n",
              "      <th>pixel5</th>\n",
              "      <th>pixel6</th>\n",
              "      <th>pixel7</th>\n",
              "      <th>pixel8</th>\n",
              "      <th>...</th>\n",
              "      <th>pixel774</th>\n",
              "      <th>pixel775</th>\n",
              "      <th>pixel776</th>\n",
              "      <th>pixel777</th>\n",
              "      <th>pixel778</th>\n",
              "      <th>pixel779</th>\n",
              "      <th>pixel780</th>\n",
              "      <th>pixel781</th>\n",
              "      <th>pixel782</th>\n",
              "      <th>pixel783</th>\n",
              "    </tr>\n",
              "  </thead>\n",
              "  <tbody>\n",
              "    <tr>\n",
              "      <th>0</th>\n",
              "      <td>1</td>\n",
              "      <td>0</td>\n",
              "      <td>0</td>\n",
              "      <td>0</td>\n",
              "      <td>0</td>\n",
              "      <td>0</td>\n",
              "      <td>0</td>\n",
              "      <td>0</td>\n",
              "      <td>0</td>\n",
              "      <td>0</td>\n",
              "      <td>...</td>\n",
              "      <td>0</td>\n",
              "      <td>0</td>\n",
              "      <td>0</td>\n",
              "      <td>0</td>\n",
              "      <td>0</td>\n",
              "      <td>0</td>\n",
              "      <td>0</td>\n",
              "      <td>0</td>\n",
              "      <td>0</td>\n",
              "      <td>0</td>\n",
              "    </tr>\n",
              "    <tr>\n",
              "      <th>1</th>\n",
              "      <td>0</td>\n",
              "      <td>0</td>\n",
              "      <td>0</td>\n",
              "      <td>0</td>\n",
              "      <td>0</td>\n",
              "      <td>0</td>\n",
              "      <td>0</td>\n",
              "      <td>0</td>\n",
              "      <td>0</td>\n",
              "      <td>0</td>\n",
              "      <td>...</td>\n",
              "      <td>0</td>\n",
              "      <td>0</td>\n",
              "      <td>0</td>\n",
              "      <td>0</td>\n",
              "      <td>0</td>\n",
              "      <td>0</td>\n",
              "      <td>0</td>\n",
              "      <td>0</td>\n",
              "      <td>0</td>\n",
              "      <td>0</td>\n",
              "    </tr>\n",
              "    <tr>\n",
              "      <th>2</th>\n",
              "      <td>1</td>\n",
              "      <td>0</td>\n",
              "      <td>0</td>\n",
              "      <td>0</td>\n",
              "      <td>0</td>\n",
              "      <td>0</td>\n",
              "      <td>0</td>\n",
              "      <td>0</td>\n",
              "      <td>0</td>\n",
              "      <td>0</td>\n",
              "      <td>...</td>\n",
              "      <td>0</td>\n",
              "      <td>0</td>\n",
              "      <td>0</td>\n",
              "      <td>0</td>\n",
              "      <td>0</td>\n",
              "      <td>0</td>\n",
              "      <td>0</td>\n",
              "      <td>0</td>\n",
              "      <td>0</td>\n",
              "      <td>0</td>\n",
              "    </tr>\n",
              "    <tr>\n",
              "      <th>3</th>\n",
              "      <td>4</td>\n",
              "      <td>0</td>\n",
              "      <td>0</td>\n",
              "      <td>0</td>\n",
              "      <td>0</td>\n",
              "      <td>0</td>\n",
              "      <td>0</td>\n",
              "      <td>0</td>\n",
              "      <td>0</td>\n",
              "      <td>0</td>\n",
              "      <td>...</td>\n",
              "      <td>0</td>\n",
              "      <td>0</td>\n",
              "      <td>0</td>\n",
              "      <td>0</td>\n",
              "      <td>0</td>\n",
              "      <td>0</td>\n",
              "      <td>0</td>\n",
              "      <td>0</td>\n",
              "      <td>0</td>\n",
              "      <td>0</td>\n",
              "    </tr>\n",
              "    <tr>\n",
              "      <th>4</th>\n",
              "      <td>0</td>\n",
              "      <td>0</td>\n",
              "      <td>0</td>\n",
              "      <td>0</td>\n",
              "      <td>0</td>\n",
              "      <td>0</td>\n",
              "      <td>0</td>\n",
              "      <td>0</td>\n",
              "      <td>0</td>\n",
              "      <td>0</td>\n",
              "      <td>...</td>\n",
              "      <td>0</td>\n",
              "      <td>0</td>\n",
              "      <td>0</td>\n",
              "      <td>0</td>\n",
              "      <td>0</td>\n",
              "      <td>0</td>\n",
              "      <td>0</td>\n",
              "      <td>0</td>\n",
              "      <td>0</td>\n",
              "      <td>0</td>\n",
              "    </tr>\n",
              "  </tbody>\n",
              "</table>\n",
              "<p>5 rows × 785 columns</p>\n",
              "</div>\n",
              "    <div class=\"colab-df-buttons\">\n",
              "\n",
              "  <div class=\"colab-df-container\">\n",
              "    <button class=\"colab-df-convert\" onclick=\"convertToInteractive('df-5b5ba711-d977-499b-9caa-ebd0196e082b')\"\n",
              "            title=\"Convert this dataframe to an interactive table.\"\n",
              "            style=\"display:none;\">\n",
              "\n",
              "  <svg xmlns=\"http://www.w3.org/2000/svg\" height=\"24px\" viewBox=\"0 -960 960 960\">\n",
              "    <path d=\"M120-120v-720h720v720H120Zm60-500h600v-160H180v160Zm220 220h160v-160H400v160Zm0 220h160v-160H400v160ZM180-400h160v-160H180v160Zm440 0h160v-160H620v160ZM180-180h160v-160H180v160Zm440 0h160v-160H620v160Z\"/>\n",
              "  </svg>\n",
              "    </button>\n",
              "\n",
              "  <style>\n",
              "    .colab-df-container {\n",
              "      display:flex;\n",
              "      gap: 12px;\n",
              "    }\n",
              "\n",
              "    .colab-df-convert {\n",
              "      background-color: #E8F0FE;\n",
              "      border: none;\n",
              "      border-radius: 50%;\n",
              "      cursor: pointer;\n",
              "      display: none;\n",
              "      fill: #1967D2;\n",
              "      height: 32px;\n",
              "      padding: 0 0 0 0;\n",
              "      width: 32px;\n",
              "    }\n",
              "\n",
              "    .colab-df-convert:hover {\n",
              "      background-color: #E2EBFA;\n",
              "      box-shadow: 0px 1px 2px rgba(60, 64, 67, 0.3), 0px 1px 3px 1px rgba(60, 64, 67, 0.15);\n",
              "      fill: #174EA6;\n",
              "    }\n",
              "\n",
              "    .colab-df-buttons div {\n",
              "      margin-bottom: 4px;\n",
              "    }\n",
              "\n",
              "    [theme=dark] .colab-df-convert {\n",
              "      background-color: #3B4455;\n",
              "      fill: #D2E3FC;\n",
              "    }\n",
              "\n",
              "    [theme=dark] .colab-df-convert:hover {\n",
              "      background-color: #434B5C;\n",
              "      box-shadow: 0px 1px 3px 1px rgba(0, 0, 0, 0.15);\n",
              "      filter: drop-shadow(0px 1px 2px rgba(0, 0, 0, 0.3));\n",
              "      fill: #FFFFFF;\n",
              "    }\n",
              "  </style>\n",
              "\n",
              "    <script>\n",
              "      const buttonEl =\n",
              "        document.querySelector('#df-5b5ba711-d977-499b-9caa-ebd0196e082b button.colab-df-convert');\n",
              "      buttonEl.style.display =\n",
              "        google.colab.kernel.accessAllowed ? 'block' : 'none';\n",
              "\n",
              "      async function convertToInteractive(key) {\n",
              "        const element = document.querySelector('#df-5b5ba711-d977-499b-9caa-ebd0196e082b');\n",
              "        const dataTable =\n",
              "          await google.colab.kernel.invokeFunction('convertToInteractive',\n",
              "                                                    [key], {});\n",
              "        if (!dataTable) return;\n",
              "\n",
              "        const docLinkHtml = 'Like what you see? Visit the ' +\n",
              "          '<a target=\"_blank\" href=https://colab.research.google.com/notebooks/data_table.ipynb>data table notebook</a>'\n",
              "          + ' to learn more about interactive tables.';\n",
              "        element.innerHTML = '';\n",
              "        dataTable['output_type'] = 'display_data';\n",
              "        await google.colab.output.renderOutput(dataTable, element);\n",
              "        const docLink = document.createElement('div');\n",
              "        docLink.innerHTML = docLinkHtml;\n",
              "        element.appendChild(docLink);\n",
              "      }\n",
              "    </script>\n",
              "  </div>\n",
              "\n",
              "\n",
              "<div id=\"df-aa360e08-8ab1-4bad-a8dd-1ac20ad2b91f\">\n",
              "  <button class=\"colab-df-quickchart\" onclick=\"quickchart('df-aa360e08-8ab1-4bad-a8dd-1ac20ad2b91f')\"\n",
              "            title=\"Suggest charts\"\n",
              "            style=\"display:none;\">\n",
              "\n",
              "<svg xmlns=\"http://www.w3.org/2000/svg\" height=\"24px\"viewBox=\"0 0 24 24\"\n",
              "     width=\"24px\">\n",
              "    <g>\n",
              "        <path d=\"M19 3H5c-1.1 0-2 .9-2 2v14c0 1.1.9 2 2 2h14c1.1 0 2-.9 2-2V5c0-1.1-.9-2-2-2zM9 17H7v-7h2v7zm4 0h-2V7h2v10zm4 0h-2v-4h2v4z\"/>\n",
              "    </g>\n",
              "</svg>\n",
              "  </button>\n",
              "\n",
              "<style>\n",
              "  .colab-df-quickchart {\n",
              "      --bg-color: #E8F0FE;\n",
              "      --fill-color: #1967D2;\n",
              "      --hover-bg-color: #E2EBFA;\n",
              "      --hover-fill-color: #174EA6;\n",
              "      --disabled-fill-color: #AAA;\n",
              "      --disabled-bg-color: #DDD;\n",
              "  }\n",
              "\n",
              "  [theme=dark] .colab-df-quickchart {\n",
              "      --bg-color: #3B4455;\n",
              "      --fill-color: #D2E3FC;\n",
              "      --hover-bg-color: #434B5C;\n",
              "      --hover-fill-color: #FFFFFF;\n",
              "      --disabled-bg-color: #3B4455;\n",
              "      --disabled-fill-color: #666;\n",
              "  }\n",
              "\n",
              "  .colab-df-quickchart {\n",
              "    background-color: var(--bg-color);\n",
              "    border: none;\n",
              "    border-radius: 50%;\n",
              "    cursor: pointer;\n",
              "    display: none;\n",
              "    fill: var(--fill-color);\n",
              "    height: 32px;\n",
              "    padding: 0;\n",
              "    width: 32px;\n",
              "  }\n",
              "\n",
              "  .colab-df-quickchart:hover {\n",
              "    background-color: var(--hover-bg-color);\n",
              "    box-shadow: 0 1px 2px rgba(60, 64, 67, 0.3), 0 1px 3px 1px rgba(60, 64, 67, 0.15);\n",
              "    fill: var(--button-hover-fill-color);\n",
              "  }\n",
              "\n",
              "  .colab-df-quickchart-complete:disabled,\n",
              "  .colab-df-quickchart-complete:disabled:hover {\n",
              "    background-color: var(--disabled-bg-color);\n",
              "    fill: var(--disabled-fill-color);\n",
              "    box-shadow: none;\n",
              "  }\n",
              "\n",
              "  .colab-df-spinner {\n",
              "    border: 2px solid var(--fill-color);\n",
              "    border-color: transparent;\n",
              "    border-bottom-color: var(--fill-color);\n",
              "    animation:\n",
              "      spin 1s steps(1) infinite;\n",
              "  }\n",
              "\n",
              "  @keyframes spin {\n",
              "    0% {\n",
              "      border-color: transparent;\n",
              "      border-bottom-color: var(--fill-color);\n",
              "      border-left-color: var(--fill-color);\n",
              "    }\n",
              "    20% {\n",
              "      border-color: transparent;\n",
              "      border-left-color: var(--fill-color);\n",
              "      border-top-color: var(--fill-color);\n",
              "    }\n",
              "    30% {\n",
              "      border-color: transparent;\n",
              "      border-left-color: var(--fill-color);\n",
              "      border-top-color: var(--fill-color);\n",
              "      border-right-color: var(--fill-color);\n",
              "    }\n",
              "    40% {\n",
              "      border-color: transparent;\n",
              "      border-right-color: var(--fill-color);\n",
              "      border-top-color: var(--fill-color);\n",
              "    }\n",
              "    60% {\n",
              "      border-color: transparent;\n",
              "      border-right-color: var(--fill-color);\n",
              "    }\n",
              "    80% {\n",
              "      border-color: transparent;\n",
              "      border-right-color: var(--fill-color);\n",
              "      border-bottom-color: var(--fill-color);\n",
              "    }\n",
              "    90% {\n",
              "      border-color: transparent;\n",
              "      border-bottom-color: var(--fill-color);\n",
              "    }\n",
              "  }\n",
              "</style>\n",
              "\n",
              "  <script>\n",
              "    async function quickchart(key) {\n",
              "      const quickchartButtonEl =\n",
              "        document.querySelector('#' + key + ' button');\n",
              "      quickchartButtonEl.disabled = true;  // To prevent multiple clicks.\n",
              "      quickchartButtonEl.classList.add('colab-df-spinner');\n",
              "      try {\n",
              "        const charts = await google.colab.kernel.invokeFunction(\n",
              "            'suggestCharts', [key], {});\n",
              "      } catch (error) {\n",
              "        console.error('Error during call to suggestCharts:', error);\n",
              "      }\n",
              "      quickchartButtonEl.classList.remove('colab-df-spinner');\n",
              "      quickchartButtonEl.classList.add('colab-df-quickchart-complete');\n",
              "    }\n",
              "    (() => {\n",
              "      let quickchartButtonEl =\n",
              "        document.querySelector('#df-aa360e08-8ab1-4bad-a8dd-1ac20ad2b91f button');\n",
              "      quickchartButtonEl.style.display =\n",
              "        google.colab.kernel.accessAllowed ? 'block' : 'none';\n",
              "    })();\n",
              "  </script>\n",
              "</div>\n",
              "\n",
              "    </div>\n",
              "  </div>\n"
            ],
            "application/vnd.google.colaboratory.intrinsic+json": {
              "type": "dataframe",
              "variable_name": "df"
            }
          },
          "metadata": {},
          "execution_count": 3
        }
      ],
      "source": [
        "df = pd.read_csv('digits.csv')\n",
        "df.head()"
      ]
    },
    {
      "cell_type": "code",
      "execution_count": 4,
      "metadata": {
        "id": "A1ov6HiHzlcY"
      },
      "outputs": [],
      "source": [
        "X = df.drop('label',axis = 1)\n",
        "y = df['label']"
      ]
    },
    {
      "cell_type": "code",
      "execution_count": 5,
      "metadata": {
        "id": "5_d-ClNPz27l"
      },
      "outputs": [],
      "source": [
        "def show_image(x,title):\n",
        "    plt.title(title)\n",
        "    plt.imshow(x.values.reshape(28,28))\n",
        "    plt.show()"
      ]
    },
    {
      "cell_type": "code",
      "execution_count": 6,
      "metadata": {
        "colab": {
          "base_uri": "https://localhost:8080/",
          "height": 1000
        },
        "id": "6BD7ynb2z3gF",
        "outputId": "35764351-d3e9-4f25-c331-23056d155ff8"
      },
      "outputs": [
        {
          "output_type": "display_data",
          "data": {
            "text/plain": [
              "<Figure size 640x480 with 1 Axes>"
            ],
            "image/png": "[encoded data removed]"
          },
          "metadata": {}
        },
        {
          "output_type": "display_data",
          "data": {
            "text/plain": [
              "<Figure size 640x480 with 1 Axes>"
            ],
            "image/png": "[encoded data removed]"
          },
          "metadata": {}
        },
        {
          "output_type": "display_data",
          "data": {
            "text/plain": [
              "<Figure size 640x480 with 1 Axes>"
            ],
            "image/png": "[encoded data removed]"
          },
          "metadata": {}
        },
        {
          "output_type": "display_data",
          "data": {
            "text/plain": [
              "<Figure size 640x480 with 1 Axes>"
            ],
            "image/png": "[encoded data removed]"
          },
          "metadata": {}
        },
        {
          "output_type": "display_data",
          "data": {
            "text/plain": [
              "<Figure size 640x480 with 1 Axes>"
            ],
            "image/png": "[encoded data removed]"
          },
          "metadata": {}
        }
      ],
      "source": [
        "for i in range(5):\n",
        "    ind = np.random.randint(len(X))\n",
        "    show_image(X.loc[ind],y[ind])"
      ]
    },
    {
      "cell_type": "code",
      "execution_count": 7,
      "metadata": {
        "id": "B5zp6LjU2Dwl"
      },
      "outputs": [],
      "source": [
        "X_train,X_test,y_train,y_test = train_test_split(X,y,test_size = 0.23,random_state = 32001)"
      ]
    },
    {
      "cell_type": "code",
      "execution_count": 8,
      "metadata": {
        "colab": {
          "base_uri": "https://localhost:8080/"
        },
        "id": "WvyRoeIX2G5l",
        "outputId": "24b9bd02-634e-4afa-ba0a-a8aca7b6a521"
      },
      "outputs": [
        {
          "output_type": "stream",
          "name": "stdout",
          "text": [
            "(32340, 784)\n",
            "(9660, 784)\n",
            "(32340,)\n",
            "(9660,)\n"
          ]
        }
      ],
      "source": [
        "print(X_train.shape)\n",
        "print(X_test.shape)\n",
        "print(y_train.shape)\n",
        "print(y_test.shape)"
      ]
    },
    {
      "cell_type": "code",
      "execution_count": 9,
      "metadata": {
        "id": "IswjKmC0z__M"
      },
      "outputs": [],
      "source": [
        "sd = StandardScaler()\n",
        "X_train_ = sd.fit_transform(X_train)\n",
        "X_test_ = sd.transform(X_test)"
      ]
    },
    {
      "cell_type": "code",
      "execution_count": 10,
      "metadata": {
        "colab": {
          "base_uri": "https://localhost:8080/",
          "height": 799
        },
        "id": "SOwy5ayr2ZD8",
        "outputId": "b6f0eba1-8f6c-48f2-808c-af841325185c"
      },
      "outputs": [
        {
          "output_type": "stream",
          "name": "stdout",
          "text": [
            "traning time:  18.59856605529785\n",
            "score : 0.9067287784679089\n",
            "              precision    recall  f1-score   support\n",
            "\n",
            "           0       0.94      0.96      0.95       928\n",
            "           1       0.95      0.97      0.96      1082\n",
            "           2       0.90      0.88      0.89       956\n",
            "           3       0.88      0.90      0.89       989\n",
            "           4       0.91      0.92      0.91       941\n",
            "           5       0.87      0.85      0.86       885\n",
            "           6       0.92      0.93      0.93       944\n",
            "           7       0.93      0.92      0.92      1042\n",
            "           8       0.88      0.83      0.85       957\n",
            "           9       0.88      0.89      0.89       936\n",
            "\n",
            "    accuracy                           0.91      9660\n",
            "   macro avg       0.91      0.91      0.91      9660\n",
            "weighted avg       0.91      0.91      0.91      9660\n",
            "\n"
          ]
        },
        {
          "output_type": "execute_result",
          "data": {
            "text/plain": [
              "<Axes: >"
            ]
          },
          "metadata": {},
          "execution_count": 10
        },
        {
          "output_type": "display_data",
          "data": {
            "text/plain": [
              "<Figure size 640x480 with 2 Axes>"
            ],
            "image/png": "[encoded data removed]"
          },
          "metadata": {}
        }
      ],
      "source": [
        "model1 = LogisticRegression(max_iter=100)\n",
        "start = time.time()\n",
        "model1.fit(X_train_,y_train)\n",
        "print('traning time: ',time.time()-start)\n",
        "y_pred = model1.predict(X_test_)\n",
        "print('score :',model1.score(X_test_,y_test))\n",
        "print(classification_report(y_test,y_pred))\n",
        "sns.heatmap(confusion_matrix(y_test,y_pred),annot = True,fmt = 'd')"
      ]
    },
    {
      "cell_type": "code",
      "execution_count": 11,
      "metadata": {
        "id": "4CX1NGo42tKt"
      },
      "outputs": [],
      "source": [
        "pca = PCA(n_components=0.99)\n",
        "X_pca = pca.fit_transform(X_train_)"
      ]
    },
    {
      "cell_type": "code",
      "execution_count": 12,
      "metadata": {
        "colab": {
          "base_uri": "https://localhost:8080/"
        },
        "id": "f6SF71CF_zDT",
        "outputId": "5f03e976-e5f1-40c4-d331-def1daa99b41"
      },
      "outputs": [
        {
          "output_type": "execute_result",
          "data": {
            "text/plain": [
              "(32340, 528)"
            ]
          },
          "metadata": {},
          "execution_count": 12
        }
      ],
      "source": [
        "X_pca.shape"
      ]
    },
    {
      "cell_type": "code",
      "execution_count": 13,
      "metadata": {
        "colab": {
          "base_uri": "https://localhost:8080/"
        },
        "id": "OEtu71x7_3ti",
        "outputId": "b96f9439-88d0-46e5-b0cf-7b439a2d5be3"
      },
      "outputs": [
        {
          "output_type": "execute_result",
          "data": {
            "text/plain": [
              "(32340, 784)"
            ]
          },
          "metadata": {},
          "execution_count": 13
        }
      ],
      "source": [
        "X_train_.shape"
      ]
    },
    {
      "cell_type": "code",
      "execution_count": 14,
      "metadata": {
        "colab": {
          "base_uri": "https://localhost:8080/"
        },
        "id": "yfsk7tAt_8mA",
        "outputId": "d918fc3f-56e1-4579-ba51-b2ff31ddaa1e"
      },
      "outputs": [
        {
          "output_type": "execute_result",
          "data": {
            "text/plain": [
              "(32340, 100)"
            ]
          },
          "metadata": {},
          "execution_count": 14
        }
      ],
      "source": [
        "pca1 = PCA(n_components = 100)\n",
        "X_pca1 = pca1.fit_transform(X_train_)\n",
        "X_pca1.shape"
      ]
    },
    {
      "cell_type": "code",
      "execution_count": 15,
      "metadata": {
        "colab": {
          "base_uri": "https://localhost:8080/"
        },
        "id": "aWPCaub0AOo6",
        "outputId": "09421f1c-6dc0-4e80-e7c7-44d7c1defdcc"
      },
      "outputs": [
        {
          "output_type": "execute_result",
          "data": {
            "text/plain": [
              "array([40.65526154, 29.14075652, 26.82713886, 20.7927174 , 18.16754634,\n",
              "       15.74924425, 13.82057782, 12.59058265, 11.0344622 , 10.08009965,\n",
              "        9.60860954,  8.68058565,  8.04035484,  7.88737574,  7.46167685,\n",
              "        7.18872177,  6.81056483,  6.60771864,  6.41077278,  6.31439624,\n",
              "        5.97527902,  5.77949162,  5.49446303,  5.32858463,  5.14328347,\n",
              "        4.99393085,  4.89644602,  4.70471263,  4.49989037,  4.42448326,\n",
              "        4.39409764,  4.21193443,  4.1484971 ,  4.08244121,  4.02183168,\n",
              "        3.96390486,  3.89398248,  3.73364171,  3.69693408,  3.56222489,\n",
              "        3.4464963 ,  3.42046225,  3.37239297,  3.27532511,  3.21201438,\n",
              "        3.19430144,  3.12315382,  3.09616757,  3.05943109,  3.02809113,\n",
              "        2.99417477,  2.93555665,  2.90642277,  2.82377649,  2.81877347,\n",
              "        2.80226966,  2.76108994,  2.67109449,  2.63202491,  2.58825351,\n",
              "        2.56646938,  2.49942842,  2.46239286,  2.45793196,  2.42730987,\n",
              "        2.41534531,  2.35210864,  2.34630027,  2.31307741,  2.27562063,\n",
              "        2.26492487,  2.22420029,  2.21192999,  2.15273738,  2.12915825,\n",
              "        2.11053071,  2.0943593 ,  2.05688327,  2.04143321,  2.03118567,\n",
              "        2.02367199,  2.01560641,  2.00643685,  1.99165437,  1.97570922,\n",
              "        1.95205345,  1.93679606,  1.9193195 ,  1.8963676 ,  1.85774378,\n",
              "        1.855726  ,  1.82972049,  1.82482795,  1.80939133,  1.78584281,\n",
              "        1.77299229,  1.73453748,  1.72764445,  1.69826235,  1.67169034])"
            ]
          },
          "metadata": {},
          "execution_count": 15
        }
      ],
      "source": [
        "pca1.explained_variance_"
      ]
    },
    {
      "cell_type": "code",
      "execution_count": 16,
      "metadata": {
        "colab": {
          "base_uri": "https://localhost:8080/"
        },
        "id": "BFY-lEcvA-Tt",
        "outputId": "3ae2a729-e164-479d-f9a8-b2b9f79d0df3"
      },
      "outputs": [
        {
          "output_type": "execute_result",
          "data": {
            "text/plain": [
              "0.7201193126108181"
            ]
          },
          "metadata": {},
          "execution_count": 16
        }
      ],
      "source": [
        "pca1.explained_variance_ratio_.sum()"
      ]
    },
    {
      "cell_type": "code",
      "execution_count": 40,
      "metadata": {
        "colab": {
          "base_uri": "https://localhost:8080/"
        },
        "id": "MtfwYSpmB5FY",
        "outputId": "03b14833-e00b-4878-fa10-4877712dbb97"
      },
      "outputs": [
        {
          "output_type": "execute_result",
          "data": {
            "text/plain": [
              "0.9999999999999999"
            ]
          },
          "metadata": {},
          "execution_count": 40
        }
      ],
      "source": [
        "pca  = PCA()\n",
        "X_pca = pca.fit_transform(X_train_)\n",
        "X_pca.shape\n",
        "pca.explained_variance_ratio_.sum()"
      ]
    },
    {
      "cell_type": "code",
      "execution_count": 41,
      "metadata": {
        "colab": {
          "base_uri": "https://localhost:8080/"
        },
        "id": "JbejTCNRCeDz",
        "outputId": "34bc51eb-4e64-4d96-9a8a-713d058438a1"
      },
      "outputs": [
        {
          "output_type": "execute_result",
          "data": {
            "text/plain": [
              "array([0.05766525, 0.09899838, 0.13704989, 0.16654219, 0.19231096,\n",
              "       0.21464962, 0.23425268, 0.25211111, 0.26776234, 0.28205991,\n",
              "       0.29568872, 0.30800123, 0.31940564, 0.33059306, 0.34117667,\n",
              "       0.35137312, 0.3610332 , 0.37040556, 0.37949857, 0.38845489,\n",
              "       0.3969302 , 0.40512781, 0.41292113, 0.42047917, 0.42777438,\n",
              "       0.43485775, 0.44180285, 0.448476  , 0.45485862, 0.46113429,\n",
              "       0.46736686, 0.47334105, 0.47922526, 0.48501578, 0.49072033,\n",
              "       0.49634272, 0.50186593, 0.50716171, 0.51240542, 0.51745807,\n",
              "       0.52234656, 0.52719813, 0.53198152, 0.53662723, 0.54118314,\n",
              "       0.54571392, 0.55014379, 0.55453538, 0.55887487, 0.5631699 ,\n",
              "       0.56741682, 0.5715806 , 0.57570306, 0.5797083 , 0.58370643,\n",
              "       0.58768116, 0.59159748, 0.59538615, 0.5991194 , 0.60279057,\n",
              "       0.60643084, 0.60997602, 0.61346866, 0.61695499, 0.62039787,\n",
              "       0.62382379, 0.62716001, 0.63048799, 0.63376885, 0.63699658,\n",
              "       0.64020914, 0.64336394, 0.64650133, 0.64955476, 0.65257475,\n",
              "       0.65556832, 0.65853895, 0.66145643, 0.66435199, 0.66723301,\n",
              "       0.67010338, 0.67296231, 0.67580823, 0.67863318, 0.68143552,\n",
              "       0.68420431, 0.68695145, 0.6896738 , 0.6923636 , 0.69499862,\n",
              "       0.69763077, 0.70022604, 0.70281437, 0.7053808 , 0.70791384,\n",
              "       0.71042864, 0.7128889 , 0.71533939, 0.71774819, 0.72011931,\n",
              "       0.72247738, 0.72481285, 0.72714786, 0.72946098, 0.73174589,\n",
              "       0.73400273, 0.73625559, 0.73847868, 0.74067408, 0.74285096,\n",
              "       0.74499528, 0.74710787, 0.74918796, 0.75124862, 0.75329285,\n",
              "       0.75531744, 0.75733318, 0.75933174, 0.76131681, 0.76328252,\n",
              "       0.76522678, 0.76716804, 0.76907275, 0.77095416, 0.77281704,\n",
              "       0.77465685, 0.77648612, 0.77829961, 0.78009783, 0.78187236,\n",
              "       0.78363569, 0.78538669, 0.78713022, 0.78883595, 0.79052188,\n",
              "       0.79219525, 0.79384875, 0.79549556, 0.79711752, 0.79873159,\n",
              "       0.80033416, 0.80192729, 0.80349451, 0.80504953, 0.8065952 ,\n",
              "       0.80812045, 0.80963798, 0.81114877, 0.812649  , 0.81413638,\n",
              "       0.81562048, 0.81709497, 0.81854537, 0.81999283, 0.82142403,\n",
              "       0.82284975, 0.82427124, 0.82568987, 0.8271057 , 0.82851751,\n",
              "       0.82992272, 0.8313265 , 0.83272047, 0.83410669, 0.83548538,\n",
              "       0.83685697, 0.83822352, 0.83958658, 0.84094459, 0.8422887 ,\n",
              "       0.84361769, 0.84492946, 0.84623903, 0.84753974, 0.84883265,\n",
              "       0.85011914, 0.85140147, 0.85267515, 0.85393413, 0.85516931,\n",
              "       0.85639208, 0.85759828, 0.85880272, 0.85999558, 0.86117437,\n",
              "       0.86234834, 0.86350717, 0.86465586, 0.86579849, 0.86692054,\n",
              "       0.86803042, 0.86912582, 0.87021788, 0.87130524, 0.87236753,\n",
              "       0.8734245 , 0.87447354, 0.8755143 , 0.87655449, 0.87757928,\n",
              "       0.87859227, 0.87959971, 0.88059516, 0.88157889, 0.88255104,\n",
              "       0.88351759, 0.88447496, 0.88542633, 0.88636938, 0.88731048,\n",
              "       0.88824149, 0.8891557 , 0.89005768, 0.8909505 , 0.89183981,\n",
              "       0.89272077, 0.893597  , 0.89445596, 0.89531158, 0.89614939,\n",
              "       0.89698132, 0.89780744, 0.89862997, 0.89944111, 0.9002441 ,\n",
              "       0.90104071, 0.90183338, 0.90260553, 0.90337198, 0.90412596,\n",
              "       0.90487701, 0.9056244 , 0.9063625 , 0.90709358, 0.90781828,\n",
              "       0.90853775, 0.90925455, 0.90996597, 0.91067368, 0.91137891,\n",
              "       0.91207088, 0.91275928, 0.91344317, 0.91412262, 0.91479698,\n",
              "       0.9154632 , 0.91612001, 0.91676465, 0.9174006 , 0.91803414,\n",
              "       0.91866117, 0.91928325, 0.91990176, 0.92051239, 0.9211166 ,\n",
              "       0.92171862, 0.92231734, 0.92290808, 0.92349558, 0.92407602,\n",
              "       0.92465176, 0.92522428, 0.92579304, 0.92635586, 0.9269166 ,\n",
              "       0.92747304, 0.92801941, 0.92856428, 0.9291072 , 0.92964537,\n",
              "       0.93018169, 0.93070689, 0.93122901, 0.93174908, 0.93225825,\n",
              "       0.93276628, 0.93327289, 0.9337753 , 0.93427356, 0.93476949,\n",
              "       0.93526167, 0.93575021, 0.93623346, 0.93671477, 0.93719262,\n",
              "       0.93765954, 0.9381237 , 0.93858137, 0.93903729, 0.93948908,\n",
              "       0.93993792, 0.9403832 , 0.94082341, 0.94126   , 0.94169526,\n",
              "       0.94212353, 0.94254948, 0.9429709 , 0.94338832, 0.94379907,\n",
              "       0.94420816, 0.94461357, 0.94501659, 0.9454161 , 0.9458146 ,\n",
              "       0.94620674, 0.94659752, 0.94698544, 0.9473718 , 0.9477498 ,\n",
              "       0.94812652, 0.94850235, 0.94887652, 0.94924798, 0.94961757,\n",
              "       0.9499789 , 0.95033717, 0.95069356, 0.95104762, 0.95140054,\n",
              "       0.95174574, 0.952088  , 0.95242657, 0.95276469, 0.9530999 ,\n",
              "       0.95343019, 0.95375706, 0.95408277, 0.9544066 , 0.95472726,\n",
              "       0.95504573, 0.95536136, 0.95567456, 0.95598666, 0.95629511,\n",
              "       0.95660226, 0.95690855, 0.95721314, 0.95751568, 0.957816  ,\n",
              "       0.95811454, 0.95840983, 0.95870229, 0.95899243, 0.95928013,\n",
              "       0.95956646, 0.9598498 , 0.96013268, 0.96041477, 0.9606945 ,\n",
              "       0.96097158, 0.96124679, 0.96151912, 0.96178905, 0.96205665,\n",
              "       0.96232335, 0.96258589, 0.96284692, 0.96310768, 0.96336547,\n",
              "       0.96362071, 0.96387512, 0.96412814, 0.96437917, 0.96462831,\n",
              "       0.96487571, 0.9651212 , 0.96536444, 0.96560714, 0.96584591,\n",
              "       0.9660837 , 0.96632063, 0.96655563, 0.96678835, 0.96702035,\n",
              "       0.96725107, 0.96747975, 0.96770695, 0.9679331 , 0.96815695,\n",
              "       0.96837955, 0.96860164, 0.96882278, 0.96904142, 0.96925978,\n",
              "       0.96947776, 0.96969281, 0.96990678, 0.97011969, 0.97033028,\n",
              "       0.9705393 , 0.97074743, 0.97095393, 0.97115917, 0.97136293,\n",
              "       0.97156508, 0.97176529, 0.97196471, 0.97216251, 0.97235931,\n",
              "       0.9725546 , 0.97274949, 0.97294322, 0.97313458, 0.97332524,\n",
              "       0.97351482, 0.97370393, 0.97389201, 0.97407895, 0.97426412,\n",
              "       0.97444796, 0.97462961, 0.9748105 , 0.97499017, 0.97516892,\n",
              "       0.97534692, 0.97552461, 0.97570064, 0.97587555, 0.97604908,\n",
              "       0.97622187, 0.97639405, 0.97656542, 0.97673538, 0.9769051 ,\n",
              "       0.97707252, 0.9772396 , 0.97740478, 0.9775694 , 0.97773335,\n",
              "       0.97789725, 0.97805968, 0.9782208 , 0.97838162, 0.97854176,\n",
              "       0.97870056, 0.97885837, 0.97901542, 0.97917117, 0.97932585,\n",
              "       0.97947999, 0.97963349, 0.97978551, 0.97993676, 0.98008669,\n",
              "       0.98023516, 0.98038346, 0.98053076, 0.980677  , 0.98082273,\n",
              "       0.98096776, 0.98111219, 0.98125552, 0.98139725, 0.98153836,\n",
              "       0.9816794 , 0.98181924, 0.98195873, 0.98209756, 0.98223608,\n",
              "       0.98237359, 0.98251061, 0.98264649, 0.982782  , 0.98291692,\n",
              "       0.98305061, 0.9831833 , 0.98331595, 0.98344677, 0.98357714,\n",
              "       0.98370687, 0.983836  , 0.98396408, 0.98409189, 0.98421893,\n",
              "       0.98434521, 0.9844713 , 0.98459629, 0.98472083, 0.98484416,\n",
              "       0.9849669 , 0.98508902, 0.98521022, 0.98533125, 0.98545164,\n",
              "       0.98557178, 0.98569094, 0.98580942, 0.98592706, 0.98604399,\n",
              "       0.9861599 , 0.98627485, 0.98638892, 0.98650278, 0.98661633,\n",
              "       0.98672961, 0.98684163, 0.98695275, 0.98706356, 0.987174  ,\n",
              "       0.98728323, 0.98739208, 0.98750049, 0.98760829, 0.98771529,\n",
              "       0.98782201, 0.98792827, 0.9880341 , 0.98813954, 0.98824485,\n",
              "       0.98834847, 0.98845165, 0.98855464, 0.98865718, 0.98875837,\n",
              "       0.98885943, 0.98895994, 0.98906036, 0.98915997, 0.98925874,\n",
              "       0.98935689, 0.98945478, 0.98955242, 0.9896496 , 0.98974631,\n",
              "       0.98984236, 0.98993829, 0.99003347, 0.99012834, 0.9902227 ,\n",
              "       0.99031634, 0.99040927, 0.99050185, 0.99059365, 0.99068531,\n",
              "       0.9907765 , 0.99086722, 0.99095694, 0.99104619, 0.99113479,\n",
              "       0.99122282, 0.99131056, 0.99139808, 0.99148457, 0.99157075,\n",
              "       0.99165648, 0.99174183, 0.99182648, 0.99191099, 0.99199538,\n",
              "       0.99207883, 0.99216139, 0.99224372, 0.99232549, 0.99240686,\n",
              "       0.99248754, 0.99256775, 0.99264723, 0.99272661, 0.99280565,\n",
              "       0.99288433, 0.99296271, 0.99304055, 0.99311805, 0.9931953 ,\n",
              "       0.99327173, 0.99334771, 0.99342319, 0.99349833, 0.9935734 ,\n",
              "       0.99364794, 0.99372189, 0.99379574, 0.99386865, 0.99394132,\n",
              "       0.99401349, 0.99408516, 0.99415648, 0.99422691, 0.99429708,\n",
              "       0.9943672 , 0.99443693, 0.9945064 , 0.99457577, 0.99464404,\n",
              "       0.99471215, 0.99477996, 0.99484747, 0.99491464, 0.99498155,\n",
              "       0.99504801, 0.99511399, 0.99517964, 0.99524497, 0.99531008,\n",
              "       0.99537461, 0.99543882, 0.995503  , 0.99556672, 0.99563028,\n",
              "       0.99569313, 0.99575524, 0.99581716, 0.9958789 , 0.99594019,\n",
              "       0.99600119, 0.99606191, 0.99612208, 0.99618203, 0.99624162,\n",
              "       0.99630079, 0.99635983, 0.99641857, 0.99647693, 0.9965349 ,\n",
              "       0.99659181, 0.99664854, 0.99670501, 0.99676133, 0.99681743,\n",
              "       0.99687327, 0.99692843, 0.99698304, 0.99703754, 0.99709161,\n",
              "       0.99714554, 0.99719902, 0.99725233, 0.9973052 , 0.99735744,\n",
              "       0.99740966, 0.99746162, 0.99751262, 0.99756337, 0.9976138 ,\n",
              "       0.99766401, 0.99771377, 0.9977633 , 0.9978123 , 0.99786123,\n",
              "       0.9979098 , 0.99795813, 0.99800617, 0.99805388, 0.99810086,\n",
              "       0.99814743, 0.99819361, 0.99823928, 0.99828476, 0.99833004,\n",
              "       0.99837499, 0.99841975, 0.99846376, 0.99850752, 0.99855099,\n",
              "       0.99859433, 0.99863738, 0.99867991, 0.9987218 , 0.99876358,\n",
              "       0.99880511, 0.99884614, 0.99888667, 0.99892695, 0.99896703,\n",
              "       0.99900677, 0.99904614, 0.99908512, 0.9991237 , 0.99916187,\n",
              "       0.99919975, 0.99923743, 0.99927495, 0.99931201, 0.9993487 ,\n",
              "       0.99938516, 0.99942112, 0.99945676, 0.99949173, 0.99952638,\n",
              "       0.99956053, 0.99959435, 0.99962791, 0.9996608 , 0.99969355,\n",
              "       0.99972604, 0.9997582 , 0.99978899, 0.99981897, 0.99984834,\n",
              "       0.99987765, 0.99990624, 0.99993216, 0.99995744, 0.99997775,\n",
              "       0.99999404, 0.99999669, 0.99999916, 1.        , 1.        ,\n",
              "       1.        , 1.        , 1.        , 1.        , 1.        ,\n",
              "       1.        , 1.        , 1.        , 1.        , 1.        ,\n",
              "       1.        , 1.        , 1.        , 1.        , 1.        ,\n",
              "       1.        , 1.        , 1.        , 1.        , 1.        ,\n",
              "       1.        , 1.        , 1.        , 1.        , 1.        ,\n",
              "       1.        , 1.        , 1.        , 1.        , 1.        ,\n",
              "       1.        , 1.        , 1.        , 1.        , 1.        ,\n",
              "       1.        , 1.        , 1.        , 1.        , 1.        ,\n",
              "       1.        , 1.        , 1.        , 1.        , 1.        ,\n",
              "       1.        , 1.        , 1.        , 1.        , 1.        ,\n",
              "       1.        , 1.        , 1.        , 1.        , 1.        ,\n",
              "       1.        , 1.        , 1.        , 1.        , 1.        ,\n",
              "       1.        , 1.        , 1.        , 1.        , 1.        ,\n",
              "       1.        , 1.        , 1.        , 1.        , 1.        ,\n",
              "       1.        , 1.        , 1.        , 1.        , 1.        ,\n",
              "       1.        , 1.        , 1.        , 1.        , 1.        ,\n",
              "       1.        , 1.        , 1.        , 1.        ])"
            ]
          },
          "metadata": {},
          "execution_count": 41
        }
      ],
      "source": [
        "np.cumsum(pca.explained_variance_ratio_)"
      ]
    },
    {
      "cell_type": "code",
      "execution_count": 42,
      "metadata": {
        "colab": {
          "base_uri": "https://localhost:8080/",
          "height": 448
        },
        "id": "wByMGhlVDk_J",
        "outputId": "bde3d613-e484-4999-a676-343a6d60dcdb"
      },
      "outputs": [
        {
          "output_type": "execute_result",
          "data": {
            "text/plain": [
              "<matplotlib.lines.Line2D at 0x788cdf5e6850>"
            ]
          },
          "metadata": {},
          "execution_count": 42
        },
        {
          "output_type": "display_data",
          "data": {
            "text/plain": [
              "<Figure size 640x480 with 1 Axes>"
            ],
            "image/png": "[encoded data removed]"
          },
          "metadata": {}
        }
      ],
      "source": [
        "plt.plot(np.cumsum(pca.explained_variance_ratio_))\n",
        "plt.axhline(0.9,c = 'r',ls = '--')\n",
        "plt.axvline(225,c = 'r',ls = '--')\n",
        "plt.axhline(0.95,c = 'g',ls = '-.')\n",
        "plt.axvline(300,c = 'g',ls = '-.')\n",
        "plt.axhline(0.99,c = 'y',ls = '-')\n",
        "plt.axvline(505,c = 'y',ls = '-')"
      ]
    },
    {
      "cell_type": "code",
      "execution_count": 20,
      "metadata": {
        "id": "GZIxHuKcEFTI",
        "colab": {
          "base_uri": "https://localhost:8080/",
          "height": 836
        },
        "outputId": "b8976f1f-8a75-4534-c08f-54f60174644e"
      },
      "outputs": [
        {
          "output_type": "stream",
          "name": "stdout",
          "text": [
            "(32340, 225)\n",
            "traning time:  6.18258810043335\n",
            "score : 0.9225672877846791\n",
            "cross val :  0.920404761904762\n",
            "              precision    recall  f1-score   support\n",
            "\n",
            "           0       0.94      0.97      0.95       928\n",
            "           1       0.96      0.97      0.97      1082\n",
            "           2       0.92      0.90      0.91       956\n",
            "           3       0.91      0.91      0.91       989\n",
            "           4       0.93      0.93      0.93       941\n",
            "           5       0.88      0.89      0.89       885\n",
            "           6       0.94      0.95      0.94       944\n",
            "           7       0.95      0.93      0.94      1042\n",
            "           8       0.90      0.86      0.88       957\n",
            "           9       0.90      0.91      0.91       936\n",
            "\n",
            "    accuracy                           0.92      9660\n",
            "   macro avg       0.92      0.92      0.92      9660\n",
            "weighted avg       0.92      0.92      0.92      9660\n",
            "\n"
          ]
        },
        {
          "output_type": "execute_result",
          "data": {
            "text/plain": [
              "<Axes: >"
            ]
          },
          "metadata": {},
          "execution_count": 20
        },
        {
          "output_type": "display_data",
          "data": {
            "text/plain": [
              "<Figure size 640x480 with 2 Axes>"
            ],
            "image/png": "[encoded data removed]"
          },
          "metadata": {}
        }
      ],
      "source": [
        "pca2  = PCA(225)\n",
        "X_train2 = pca2.fit_transform(X_train_)\n",
        "X_test2 = pca2.transform(X_test_)\n",
        "X2 = pca2.transform(X)\n",
        "print(X_train2.shape)\n",
        "# pca2.explained_variance_ratio_.sum()\n",
        "\n",
        "model2 = LogisticRegression(max_iter=100)\n",
        "start = time.time()\n",
        "model2.fit(X_train2,y_train)\n",
        "print('traning time: ',time.time()-start)\n",
        "y_pred = model2.predict(X_test2)\n",
        "print('score :',model2.score(X_test2,y_test))\n",
        "print('cross val : ',np.mean(cross_val_score(LogisticRegression(),X2,y,cv = 5)))\n",
        "print(classification_report(y_test,y_pred))\n",
        "sns.heatmap(confusion_matrix(y_test,y_pred),annot = True,fmt = 'd')"
      ]
    },
    {
      "cell_type": "code",
      "source": [
        "pca3  = PCA(300)\n",
        "X_train3 = pca3.fit_transform(X_train_)\n",
        "X_test3 = pca3.transform(X_test_)\n",
        "X3 = pca3.transform(X)\n",
        "print(X_train3.shape)\n",
        "# pca2.explained_variance_ratio_.sum()\n",
        "\n",
        "model3 = LogisticRegression(max_iter=100)\n",
        "start = time.time()\n",
        "model3.fit(X_train3,y_train)\n",
        "print('traning time: ',time.time()-start)\n",
        "y_pred = model3.predict(X_test3)\n",
        "print('score :',model3.score(X_test3,y_test))\n",
        "print('cross val : ',np.mean(cross_val_score(LogisticRegression(),X3,y,cv = 5)))\n",
        "print(classification_report(y_test,y_pred))\n",
        "sns.heatmap(confusion_matrix(y_test,y_pred),annot = True,fmt = 'd')"
      ],
      "metadata": {
        "colab": {
          "base_uri": "https://localhost:8080/",
          "height": 836
        },
        "id": "bmx1upCwnm8g",
        "outputId": "1844390e-332d-41fc-a361-2fd37469314e"
      },
      "execution_count": 21,
      "outputs": [
        {
          "output_type": "stream",
          "name": "stdout",
          "text": [
            "(32340, 300)\n",
            "traning time:  9.07605767250061\n",
            "score : 0.9231884057971015\n",
            "cross val :  0.9206904761904762\n",
            "              precision    recall  f1-score   support\n",
            "\n",
            "           0       0.95      0.96      0.96       928\n",
            "           1       0.96      0.98      0.97      1082\n",
            "           2       0.91      0.90      0.91       956\n",
            "           3       0.90      0.91      0.91       989\n",
            "           4       0.93      0.93      0.93       941\n",
            "           5       0.89      0.90      0.89       885\n",
            "           6       0.94      0.95      0.94       944\n",
            "           7       0.94      0.93      0.93      1042\n",
            "           8       0.90      0.86      0.88       957\n",
            "           9       0.90      0.91      0.91       936\n",
            "\n",
            "    accuracy                           0.92      9660\n",
            "   macro avg       0.92      0.92      0.92      9660\n",
            "weighted avg       0.92      0.92      0.92      9660\n",
            "\n"
          ]
        },
        {
          "output_type": "execute_result",
          "data": {
            "text/plain": [
              "<Axes: >"
            ]
          },
          "metadata": {},
          "execution_count": 21
        },
        {
          "output_type": "display_data",
          "data": {
            "text/plain": [
              "<Figure size 640x480 with 2 Axes>"
            ],
            "image/png": "[encoded data removed]"
          },
          "metadata": {}
        }
      ]
    },
    {
      "cell_type": "code",
      "source": [
        "pca4  = PCA(300)\n",
        "X_train4 = pca4.fit_transform(X_train_)\n",
        "X_test4 = pca4.transform(X_test_)\n",
        "X4 = pca4.transform(X)\n",
        "print(X_train4.shape)\n",
        "# pca4.explained_variance_ratio_.sum()\n",
        "\n",
        "model4 = LogisticRegression(max_iter=100)\n",
        "start = time.time()\n",
        "model4.fit(X_train4,y_train)\n",
        "print('traning time: ',time.time()-start)\n",
        "y_pred = model4.predict(X_test4)\n",
        "print('score :',model4.score(X_test4,y_test))\n",
        "print('cross val : ',np.mean(cross_val_score(LogisticRegression(),X4,y,cv = 5)))\n",
        "print(classification_report(y_test,y_pred))\n",
        "sns.heatmap(confusion_matrix(y_test,y_pred),annot = True,fmt = 'd')"
      ],
      "metadata": {
        "colab": {
          "base_uri": "https://localhost:8080/",
          "height": 836
        },
        "id": "gciQtaLLn6tD",
        "outputId": "34c8239d-fb4c-43be-e8e2-491a4348420b"
      },
      "execution_count": 22,
      "outputs": [
        {
          "output_type": "stream",
          "name": "stdout",
          "text": [
            "(32340, 300)\n",
            "traning time:  7.637690544128418\n",
            "score : 0.9231884057971015\n",
            "cross val :  0.9206904761904762\n",
            "              precision    recall  f1-score   support\n",
            "\n",
            "           0       0.95      0.96      0.96       928\n",
            "           1       0.96      0.98      0.97      1082\n",
            "           2       0.91      0.90      0.91       956\n",
            "           3       0.90      0.91      0.91       989\n",
            "           4       0.93      0.93      0.93       941\n",
            "           5       0.89      0.90      0.89       885\n",
            "           6       0.94      0.95      0.94       944\n",
            "           7       0.94      0.93      0.93      1042\n",
            "           8       0.90      0.86      0.88       957\n",
            "           9       0.90      0.91      0.91       936\n",
            "\n",
            "    accuracy                           0.92      9660\n",
            "   macro avg       0.92      0.92      0.92      9660\n",
            "weighted avg       0.92      0.92      0.92      9660\n",
            "\n"
          ]
        },
        {
          "output_type": "execute_result",
          "data": {
            "text/plain": [
              "<Axes: >"
            ]
          },
          "metadata": {},
          "execution_count": 22
        },
        {
          "output_type": "display_data",
          "data": {
            "text/plain": [
              "<Figure size 640x480 with 2 Axes>"
            ],
            "image/png": "[encoded data removed]"
          },
          "metadata": {}
        }
      ]
    },
    {
      "cell_type": "code",
      "source": [
        "param_grid = {\n",
        "    'penalty' :['l1', 'l2', 'elasticnet', None],\n",
        "    'C':[0.001,0.01,0.1,1,],\n",
        "}"
      ],
      "metadata": {
        "id": "mVIhRPM-oaII"
      },
      "execution_count": 23,
      "outputs": []
    },
    {
      "cell_type": "code",
      "source": [
        "grid_search = GridSearchCV(LogisticRegression(),param_grid)"
      ],
      "metadata": {
        "id": "AcVsSJffq95V"
      },
      "execution_count": 24,
      "outputs": []
    },
    {
      "cell_type": "code",
      "source": [
        "grid_search.fit(X2,y)"
      ],
      "metadata": {
        "id": "RTzffQG_rf9S",
        "colab": {
          "base_uri": "https://localhost:8080/",
          "height": 166
        },
        "outputId": "fe6da39c-c5c4-4bda-e77c-5aaa854e8ed4"
      },
      "execution_count": 25,
      "outputs": [
        {
          "output_type": "execute_result",
          "data": {
            "text/plain": [
              "GridSearchCV(estimator=LogisticRegression(),\n",
              "             param_grid={'C': [0.001, 0.01, 0.1, 1],\n",
              "                         'penalty': ['l1', 'l2', 'elasticnet', None]})"
            ],
            "text/html": [
              "<style>#sk-container-id-1 {\n",
              "  /* Definition of color scheme common for light and dark mode */\n",
              "  --sklearn-color-text: #000;\n",
              "  --sklearn-color-text-muted: #666;\n",
              "  --sklearn-color-line: gray;\n",
              "  /* Definition of color scheme for unfitted estimators */\n",
              "  --sklearn-color-unfitted-level-0: #fff5e6;\n",
              "  --sklearn-color-unfitted-level-1: #f6e4d2;\n",
              "  --sklearn-color-unfitted-level-2: #ffe0b3;\n",
              "  --sklearn-color-unfitted-level-3: chocolate;\n",
              "  /* Definition of color scheme for fitted estimators */\n",
              "  --sklearn-color-fitted-level-0: #f0f8ff;\n",
              "  --sklearn-color-fitted-level-1: #d4ebff;\n",
              "  --sklearn-color-fitted-level-2: #b3dbfd;\n",
              "  --sklearn-color-fitted-level-3: cornflowerblue;\n",
              "\n",
              "  /* Specific color for light theme */\n",
              "  --sklearn-color-text-on-default-background: var(--sg-text-color, var(--theme-code-foreground, var(--jp-content-font-color1, black)));\n",
              "  --sklearn-color-background: var(--sg-background-color, var(--theme-background, var(--jp-layout-color0, white)));\n",
              "  --sklearn-color-border-box: var(--sg-text-color, var(--theme-code-foreground, var(--jp-content-font-color1, black)));\n",
              "  --sklearn-color-icon: #696969;\n",
              "\n",
              "  @media (prefers-color-scheme: dark) {\n",
              "    /* Redefinition of color scheme for dark theme */\n",
              "    --sklearn-color-text-on-default-background: var(--sg-text-color, var(--theme-code-foreground, var(--jp-content-font-color1, white)));\n",
              "    --sklearn-color-background: var(--sg-background-color, var(--theme-background, var(--jp-layout-color0, #111)));\n",
              "    --sklearn-color-border-box: var(--sg-text-color, var(--theme-code-foreground, var(--jp-content-font-color1, white)));\n",
              "    --sklearn-color-icon: #878787;\n",
              "  }\n",
              "}\n",
              "\n",
              "#sk-container-id-1 {\n",
              "  color: var(--sklearn-color-text);\n",
              "}\n",
              "\n",
              "#sk-container-id-1 pre {\n",
              "  padding: 0;\n",
              "}\n",
              "\n",
              "#sk-container-id-1 input.sk-hidden--visually {\n",
              "  border: 0;\n",
              "  clip: rect(1px 1px 1px 1px);\n",
              "  clip: rect(1px, 1px, 1px, 1px);\n",
              "  height: 1px;\n",
              "  margin: -1px;\n",
              "  overflow: hidden;\n",
              "  padding: 0;\n",
              "  position: absolute;\n",
              "  width: 1px;\n",
              "}\n",
              "\n",
              "#sk-container-id-1 div.sk-dashed-wrapped {\n",
              "  border: 1px dashed var(--sklearn-color-line);\n",
              "  margin: 0 0.4em 0.5em 0.4em;\n",
              "  box-sizing: border-box;\n",
              "  padding-bottom: 0.4em;\n",
              "  background-color: var(--sklearn-color-background);\n",
              "}\n",
              "\n",
              "#sk-container-id-1 div.sk-container {\n",
              "  /* jupyter's `normalize.less` sets `[hidden] { display: none; }`\n",
              "     but bootstrap.min.css set `[hidden] { display: none !important; }`\n",
              "     so we also need the `!important` here to be able to override the\n",
              "     default hidden behavior on the sphinx rendered scikit-learn.org.\n",
              "     See: https://github.com/scikit-learn/scikit-learn/issues/21755 */\n",
              "  display: inline-block !important;\n",
              "  position: relative;\n",
              "}\n",
              "\n",
              "#sk-container-id-1 div.sk-text-repr-fallback {\n",
              "  display: none;\n",
              "}\n",
              "\n",
              "div.sk-parallel-item,\n",
              "div.sk-serial,\n",
              "div.sk-item {\n",
              "  /* draw centered vertical line to link estimators */\n",
              "  background-image: linear-gradient(var(--sklearn-color-text-on-default-background), var(--sklearn-color-text-on-default-background));\n",
              "  background-size: 2px 100%;\n",
              "  background-repeat: no-repeat;\n",
              "  background-position: center center;\n",
              "}\n",
              "\n",
              "/* Parallel-specific style estimator block */\n",
              "\n",
              "#sk-container-id-1 div.sk-parallel-item::after {\n",
              "  content: \"\";\n",
              "  width: 100%;\n",
              "  border-bottom: 2px solid var(--sklearn-color-text-on-default-background);\n",
              "  flex-grow: 1;\n",
              "}\n",
              "\n",
              "#sk-container-id-1 div.sk-parallel {\n",
              "  display: flex;\n",
              "  align-items: stretch;\n",
              "  justify-content: center;\n",
              "  background-color: var(--sklearn-color-background);\n",
              "  position: relative;\n",
              "}\n",
              "\n",
              "#sk-container-id-1 div.sk-parallel-item {\n",
              "  display: flex;\n",
              "  flex-direction: column;\n",
              "}\n",
              "\n",
              "#sk-container-id-1 div.sk-parallel-item:first-child::after {\n",
              "  align-self: flex-end;\n",
              "  width: 50%;\n",
              "}\n",
              "\n",
              "#sk-container-id-1 div.sk-parallel-item:last-child::after {\n",
              "  align-self: flex-start;\n",
              "  width: 50%;\n",
              "}\n",
              "\n",
              "#sk-container-id-1 div.sk-parallel-item:only-child::after {\n",
              "  width: 0;\n",
              "}\n",
              "\n",
              "/* Serial-specific style estimator block */\n",
              "\n",
              "#sk-container-id-1 div.sk-serial {\n",
              "  display: flex;\n",
              "  flex-direction: column;\n",
              "  align-items: center;\n",
              "  background-color: var(--sklearn-color-background);\n",
              "  padding-right: 1em;\n",
              "  padding-left: 1em;\n",
              "}\n",
              "\n",
              "\n",
              "/* Toggleable style: style used for estimator/Pipeline/ColumnTransformer box that is\n",
              "clickable and can be expanded/collapsed.\n",
              "- Pipeline and ColumnTransformer use this feature and define the default style\n",
              "- Estimators will overwrite some part of the style using the `sk-estimator` class\n",
              "*/\n",
              "\n",
              "/* Pipeline and ColumnTransformer style (default) */\n",
              "\n",
              "#sk-container-id-1 div.sk-toggleable {\n",
              "  /* Default theme specific background. It is overwritten whether we have a\n",
              "  specific estimator or a Pipeline/ColumnTransformer */\n",
              "  background-color: var(--sklearn-color-background);\n",
              "}\n",
              "\n",
              "/* Toggleable label */\n",
              "#sk-container-id-1 label.sk-toggleable__label {\n",
              "  cursor: pointer;\n",
              "  display: flex;\n",
              "  width: 100%;\n",
              "  margin-bottom: 0;\n",
              "  padding: 0.5em;\n",
              "  box-sizing: border-box;\n",
              "  text-align: center;\n",
              "  align-items: start;\n",
              "  justify-content: space-between;\n",
              "  gap: 0.5em;\n",
              "}\n",
              "\n",
              "#sk-container-id-1 label.sk-toggleable__label .caption {\n",
              "  font-size: 0.6rem;\n",
              "  font-weight: lighter;\n",
              "  color: var(--sklearn-color-text-muted);\n",
              "}\n",
              "\n",
              "#sk-container-id-1 label.sk-toggleable__label-arrow:before {\n",
              "  /* Arrow on the left of the label */\n",
              "  content: \"▸\";\n",
              "  float: left;\n",
              "  margin-right: 0.25em;\n",
              "  color: var(--sklearn-color-icon);\n",
              "}\n",
              "\n",
              "#sk-container-id-1 label.sk-toggleable__label-arrow:hover:before {\n",
              "  color: var(--sklearn-color-text);\n",
              "}\n",
              "\n",
              "/* Toggleable content - dropdown */\n",
              "\n",
              "#sk-container-id-1 div.sk-toggleable__content {\n",
              "  max-height: 0;\n",
              "  max-width: 0;\n",
              "  overflow: hidden;\n",
              "  text-align: left;\n",
              "  /* unfitted */\n",
              "  background-color: var(--sklearn-color-unfitted-level-0);\n",
              "}\n",
              "\n",
              "#sk-container-id-1 div.sk-toggleable__content.fitted {\n",
              "  /* fitted */\n",
              "  background-color: var(--sklearn-color-fitted-level-0);\n",
              "}\n",
              "\n",
              "#sk-container-id-1 div.sk-toggleable__content pre {\n",
              "  margin: 0.2em;\n",
              "  border-radius: 0.25em;\n",
              "  color: var(--sklearn-color-text);\n",
              "  /* unfitted */\n",
              "  background-color: var(--sklearn-color-unfitted-level-0);\n",
              "}\n",
              "\n",
              "#sk-container-id-1 div.sk-toggleable__content.fitted pre {\n",
              "  /* unfitted */\n",
              "  background-color: var(--sklearn-color-fitted-level-0);\n",
              "}\n",
              "\n",
              "#sk-container-id-1 input.sk-toggleable__control:checked~div.sk-toggleable__content {\n",
              "  /* Expand drop-down */\n",
              "  max-height: 200px;\n",
              "  max-width: 100%;\n",
              "  overflow: auto;\n",
              "}\n",
              "\n",
              "#sk-container-id-1 input.sk-toggleable__control:checked~label.sk-toggleable__label-arrow:before {\n",
              "  content: \"▾\";\n",
              "}\n",
              "\n",
              "/* Pipeline/ColumnTransformer-specific style */\n",
              "\n",
              "#sk-container-id-1 div.sk-label input.sk-toggleable__control:checked~label.sk-toggleable__label {\n",
              "  color: var(--sklearn-color-text);\n",
              "  background-color: var(--sklearn-color-unfitted-level-2);\n",
              "}\n",
              "\n",
              "#sk-container-id-1 div.sk-label.fitted input.sk-toggleable__control:checked~label.sk-toggleable__label {\n",
              "  background-color: var(--sklearn-color-fitted-level-2);\n",
              "}\n",
              "\n",
              "/* Estimator-specific style */\n",
              "\n",
              "/* Colorize estimator box */\n",
              "#sk-container-id-1 div.sk-estimator input.sk-toggleable__control:checked~label.sk-toggleable__label {\n",
              "  /* unfitted */\n",
              "  background-color: var(--sklearn-color-unfitted-level-2);\n",
              "}\n",
              "\n",
              "#sk-container-id-1 div.sk-estimator.fitted input.sk-toggleable__control:checked~label.sk-toggleable__label {\n",
              "  /* fitted */\n",
              "  background-color: var(--sklearn-color-fitted-level-2);\n",
              "}\n",
              "\n",
              "#sk-container-id-1 div.sk-label label.sk-toggleable__label,\n",
              "#sk-container-id-1 div.sk-label label {\n",
              "  /* The background is the default theme color */\n",
              "  color: var(--sklearn-color-text-on-default-background);\n",
              "}\n",
              "\n",
              "/* On hover, darken the color of the background */\n",
              "#sk-container-id-1 div.sk-label:hover label.sk-toggleable__label {\n",
              "  color: var(--sklearn-color-text);\n",
              "  background-color: var(--sklearn-color-unfitted-level-2);\n",
              "}\n",
              "\n",
              "/* Label box, darken color on hover, fitted */\n",
              "#sk-container-id-1 div.sk-label.fitted:hover label.sk-toggleable__label.fitted {\n",
              "  color: var(--sklearn-color-text);\n",
              "  background-color: var(--sklearn-color-fitted-level-2);\n",
              "}\n",
              "\n",
              "/* Estimator label */\n",
              "\n",
              "#sk-container-id-1 div.sk-label label {\n",
              "  font-family: monospace;\n",
              "  font-weight: bold;\n",
              "  display: inline-block;\n",
              "  line-height: 1.2em;\n",
              "}\n",
              "\n",
              "#sk-container-id-1 div.sk-label-container {\n",
              "  text-align: center;\n",
              "}\n",
              "\n",
              "/* Estimator-specific */\n",
              "#sk-container-id-1 div.sk-estimator {\n",
              "  font-family: monospace;\n",
              "  border: 1px dotted var(--sklearn-color-border-box);\n",
              "  border-radius: 0.25em;\n",
              "  box-sizing: border-box;\n",
              "  margin-bottom: 0.5em;\n",
              "  /* unfitted */\n",
              "  background-color: var(--sklearn-color-unfitted-level-0);\n",
              "}\n",
              "\n",
              "#sk-container-id-1 div.sk-estimator.fitted {\n",
              "  /* fitted */\n",
              "  background-color: var(--sklearn-color-fitted-level-0);\n",
              "}\n",
              "\n",
              "/* on hover */\n",
              "#sk-container-id-1 div.sk-estimator:hover {\n",
              "  /* unfitted */\n",
              "  background-color: var(--sklearn-color-unfitted-level-2);\n",
              "}\n",
              "\n",
              "#sk-container-id-1 div.sk-estimator.fitted:hover {\n",
              "  /* fitted */\n",
              "  background-color: var(--sklearn-color-fitted-level-2);\n",
              "}\n",
              "\n",
              "/* Specification for estimator info (e.g. \"i\" and \"?\") */\n",
              "\n",
              "/* Common style for \"i\" and \"?\" */\n",
              "\n",
              ".sk-estimator-doc-link,\n",
              "a:link.sk-estimator-doc-link,\n",
              "a:visited.sk-estimator-doc-link {\n",
              "  float: right;\n",
              "  font-size: smaller;\n",
              "  line-height: 1em;\n",
              "  font-family: monospace;\n",
              "  background-color: var(--sklearn-color-background);\n",
              "  border-radius: 1em;\n",
              "  height: 1em;\n",
              "  width: 1em;\n",
              "  text-decoration: none !important;\n",
              "  margin-left: 0.5em;\n",
              "  text-align: center;\n",
              "  /* unfitted */\n",
              "  border: var(--sklearn-color-unfitted-level-1) 1pt solid;\n",
              "  color: var(--sklearn-color-unfitted-level-1);\n",
              "}\n",
              "\n",
              ".sk-estimator-doc-link.fitted,\n",
              "a:link.sk-estimator-doc-link.fitted,\n",
              "a:visited.sk-estimator-doc-link.fitted {\n",
              "  /* fitted */\n",
              "  border: var(--sklearn-color-fitted-level-1) 1pt solid;\n",
              "  color: var(--sklearn-color-fitted-level-1);\n",
              "}\n",
              "\n",
              "/* On hover */\n",
              "div.sk-estimator:hover .sk-estimator-doc-link:hover,\n",
              ".sk-estimator-doc-link:hover,\n",
              "div.sk-label-container:hover .sk-estimator-doc-link:hover,\n",
              ".sk-estimator-doc-link:hover {\n",
              "  /* unfitted */\n",
              "  background-color: var(--sklearn-color-unfitted-level-3);\n",
              "  color: var(--sklearn-color-background);\n",
              "  text-decoration: none;\n",
              "}\n",
              "\n",
              "div.sk-estimator.fitted:hover .sk-estimator-doc-link.fitted:hover,\n",
              ".sk-estimator-doc-link.fitted:hover,\n",
              "div.sk-label-container:hover .sk-estimator-doc-link.fitted:hover,\n",
              ".sk-estimator-doc-link.fitted:hover {\n",
              "  /* fitted */\n",
              "  background-color: var(--sklearn-color-fitted-level-3);\n",
              "  color: var(--sklearn-color-background);\n",
              "  text-decoration: none;\n",
              "}\n",
              "\n",
              "/* Span, style for the box shown on hovering the info icon */\n",
              ".sk-estimator-doc-link span {\n",
              "  display: none;\n",
              "  z-index: 9999;\n",
              "  position: relative;\n",
              "  font-weight: normal;\n",
              "  right: .2ex;\n",
              "  padding: .5ex;\n",
              "  margin: .5ex;\n",
              "  width: min-content;\n",
              "  min-width: 20ex;\n",
              "  max-width: 50ex;\n",
              "  color: var(--sklearn-color-text);\n",
              "  box-shadow: 2pt 2pt 4pt #999;\n",
              "  /* unfitted */\n",
              "  background: var(--sklearn-color-unfitted-level-0);\n",
              "  border: .5pt solid var(--sklearn-color-unfitted-level-3);\n",
              "}\n",
              "\n",
              ".sk-estimator-doc-link.fitted span {\n",
              "  /* fitted */\n",
              "  background: var(--sklearn-color-fitted-level-0);\n",
              "  border: var(--sklearn-color-fitted-level-3);\n",
              "}\n",
              "\n",
              ".sk-estimator-doc-link:hover span {\n",
              "  display: block;\n",
              "}\n",
              "\n",
              "/* \"?\"-specific style due to the `<a>` HTML tag */\n",
              "\n",
              "#sk-container-id-1 a.estimator_doc_link {\n",
              "  float: right;\n",
              "  font-size: 1rem;\n",
              "  line-height: 1em;\n",
              "  font-family: monospace;\n",
              "  background-color: var(--sklearn-color-background);\n",
              "  border-radius: 1rem;\n",
              "  height: 1rem;\n",
              "  width: 1rem;\n",
              "  text-decoration: none;\n",
              "  /* unfitted */\n",
              "  color: var(--sklearn-color-unfitted-level-1);\n",
              "  border: var(--sklearn-color-unfitted-level-1) 1pt solid;\n",
              "}\n",
              "\n",
              "#sk-container-id-1 a.estimator_doc_link.fitted {\n",
              "  /* fitted */\n",
              "  border: var(--sklearn-color-fitted-level-1) 1pt solid;\n",
              "  color: var(--sklearn-color-fitted-level-1);\n",
              "}\n",
              "\n",
              "/* On hover */\n",
              "#sk-container-id-1 a.estimator_doc_link:hover {\n",
              "  /* unfitted */\n",
              "  background-color: var(--sklearn-color-unfitted-level-3);\n",
              "  color: var(--sklearn-color-background);\n",
              "  text-decoration: none;\n",
              "}\n",
              "\n",
              "#sk-container-id-1 a.estimator_doc_link.fitted:hover {\n",
              "  /* fitted */\n",
              "  background-color: var(--sklearn-color-fitted-level-3);\n",
              "}\n",
              "</style><div id=\"sk-container-id-1\" class=\"sk-top-container\"><div class=\"sk-text-repr-fallback\"><pre>GridSearchCV(estimator=LogisticRegression(),\n",
              "             param_grid={&#x27;C&#x27;: [0.001, 0.01, 0.1, 1],\n",
              "                         &#x27;penalty&#x27;: [&#x27;l1&#x27;, &#x27;l2&#x27;, &#x27;elasticnet&#x27;, None]})</pre><b>In a Jupyter environment, please rerun this cell to show the HTML representation or trust the notebook. <br />On GitHub, the HTML representation is unable to render, please try loading this page with nbviewer.org.</b></div><div class=\"sk-container\" hidden><div class=\"sk-item sk-dashed-wrapped\"><div class=\"sk-label-container\"><div class=\"sk-label fitted sk-toggleable\"><input class=\"sk-toggleable__control sk-hidden--visually\" id=\"sk-estimator-id-1\" type=\"checkbox\" ><label for=\"sk-estimator-id-1\" class=\"sk-toggleable__label fitted sk-toggleable__label-arrow\"><div><div>GridSearchCV</div></div><div><a class=\"sk-estimator-doc-link fitted\" rel=\"noreferrer\" target=\"_blank\" href=\"https://scikit-learn.org/1.6/modules/generated/sklearn.model_selection.GridSearchCV.html\">?<span>Documentation for GridSearchCV</span></a><span class=\"sk-estimator-doc-link fitted\">i<span>Fitted</span></span></div></label><div class=\"sk-toggleable__content fitted\"><pre>GridSearchCV(estimator=LogisticRegression(),\n",
              "             param_grid={&#x27;C&#x27;: [0.001, 0.01, 0.1, 1],\n",
              "                         &#x27;penalty&#x27;: [&#x27;l1&#x27;, &#x27;l2&#x27;, &#x27;elasticnet&#x27;, None]})</pre></div> </div></div><div class=\"sk-parallel\"><div class=\"sk-parallel-item\"><div class=\"sk-item\"><div class=\"sk-label-container\"><div class=\"sk-label fitted sk-toggleable\"><input class=\"sk-toggleable__control sk-hidden--visually\" id=\"sk-estimator-id-2\" type=\"checkbox\" ><label for=\"sk-estimator-id-2\" class=\"sk-toggleable__label fitted sk-toggleable__label-arrow\"><div><div>best_estimator_: LogisticRegression</div></div></label><div class=\"sk-toggleable__content fitted\"><pre>LogisticRegression(C=0.001)</pre></div> </div></div><div class=\"sk-serial\"><div class=\"sk-item\"><div class=\"sk-estimator fitted sk-toggleable\"><input class=\"sk-toggleable__control sk-hidden--visually\" id=\"sk-estimator-id-3\" type=\"checkbox\" ><label for=\"sk-estimator-id-3\" class=\"sk-toggleable__label fitted sk-toggleable__label-arrow\"><div><div>LogisticRegression</div></div><div><a class=\"sk-estimator-doc-link fitted\" rel=\"noreferrer\" target=\"_blank\" href=\"https://scikit-learn.org/1.6/modules/generated/sklearn.linear_model.LogisticRegression.html\">?<span>Documentation for LogisticRegression</span></a></div></label><div class=\"sk-toggleable__content fitted\"><pre>LogisticRegression(C=0.001)</pre></div> </div></div></div></div></div></div></div></div></div>"
            ]
          },
          "metadata": {},
          "execution_count": 25
        }
      ]
    },
    {
      "cell_type": "code",
      "source": [
        "grid_search.best_params_"
      ],
      "metadata": {
        "id": "-fXnZUbMrwdr",
        "colab": {
          "base_uri": "https://localhost:8080/"
        },
        "outputId": "beeb42c1-7e0a-4fb3-a036-0c2d18e59660"
      },
      "execution_count": 27,
      "outputs": [
        {
          "output_type": "execute_result",
          "data": {
            "text/plain": [
              "{'C': 0.001, 'penalty': 'l2'}"
            ]
          },
          "metadata": {},
          "execution_count": 27
        }
      ]
    },
    {
      "cell_type": "code",
      "source": [
        "grid_search.best_score_"
      ],
      "metadata": {
        "id": "QxQldKA45yKp",
        "colab": {
          "base_uri": "https://localhost:8080/"
        },
        "outputId": "407d587c-c236-46db-d1a8-6436a23bb002"
      },
      "execution_count": 28,
      "outputs": [
        {
          "output_type": "execute_result",
          "data": {
            "text/plain": [
              "0.9205"
            ]
          },
          "metadata": {},
          "execution_count": 28
        }
      ]
    },
    {
      "cell_type": "code",
      "source": [
        "print(grid_search.best_estimator_)"
      ],
      "metadata": {
        "colab": {
          "base_uri": "https://localhost:8080/"
        },
        "id": "s-ORxguU6dma",
        "outputId": "390ce994-c742-479d-da52-1251ca345743"
      },
      "execution_count": 30,
      "outputs": [
        {
          "output_type": "stream",
          "name": "stdout",
          "text": [
            "LogisticRegression(C=0.001)\n"
          ]
        }
      ]
    },
    {
      "cell_type": "code",
      "source": [
        "X_trainf,X_testf,y_trainf,y_testf = train_test_split(X,y,test_size = 0.23,random_state = 32001)\n",
        "print(X_trainf.shape)\n",
        "print(X_testf.shape)\n",
        "print(y_trainf.shape)\n",
        "print(y_testf.shape)"
      ],
      "metadata": {
        "colab": {
          "base_uri": "https://localhost:8080/"
        },
        "id": "cbFhLhTi8RXm",
        "outputId": "2d3feedf-2dd4-43ef-8fef-7510488262e5"
      },
      "execution_count": 31,
      "outputs": [
        {
          "output_type": "stream",
          "name": "stdout",
          "text": [
            "(32340, 784)\n",
            "(9660, 784)\n",
            "(32340,)\n",
            "(9660,)\n"
          ]
        }
      ]
    },
    {
      "cell_type": "code",
      "source": [
        "pipeline= Pipeline([('scaler',StandardScaler()),\n",
        "                    ('pca',PCA(225)),\n",
        "                    ('logistic',LogisticRegression(C= 0.001, penalty = 'l2'))\n",
        "                    ])\n",
        "pipeline.fit(X_trainf,y_trainf)\n",
        "y_pred = pipeline.predict(X_testf)\n",
        "pipeline.score(X_testf,y_testf)"
      ],
      "metadata": {
        "colab": {
          "base_uri": "https://localhost:8080/"
        },
        "id": "v_NfQ5OF609F",
        "outputId": "7af74b43-05f8-4582-fe5a-27a84b4c8850"
      },
      "execution_count": 43,
      "outputs": [
        {
          "output_type": "execute_result",
          "data": {
            "text/plain": [
              "0.9157349896480331"
            ]
          },
          "metadata": {},
          "execution_count": 43
        }
      ]
    },
    {
      "cell_type": "code",
      "source": [
        "# pipeline.predict([])\n",
        "X_testf.shape"
      ],
      "metadata": {
        "colab": {
          "base_uri": "https://localhost:8080/"
        },
        "id": "xHWTC6uH82OC",
        "outputId": "bc2d2075-d707-4d7f-9986-c6e3b33ff843"
      },
      "execution_count": 44,
      "outputs": [
        {
          "output_type": "execute_result",
          "data": {
            "text/plain": [
              "(9660, 784)"
            ]
          },
          "metadata": {},
          "execution_count": 44
        }
      ]
    },
    {
      "cell_type": "code",
      "source": [
        "X_testf.iloc[[0]].shape"
      ],
      "metadata": {
        "colab": {
          "base_uri": "https://localhost:8080/"
        },
        "id": "WpKL_nZi-ohs",
        "outputId": "e3640000-5614-4c35-92d0-8bd58de156cb"
      },
      "execution_count": 51,
      "outputs": [
        {
          "output_type": "execute_result",
          "data": {
            "text/plain": [
              "(1, 784)"
            ]
          },
          "metadata": {},
          "execution_count": 51
        }
      ]
    },
    {
      "cell_type": "code",
      "source": [
        "pipeline.predict(X_testf.iloc[[0]])"
      ],
      "metadata": {
        "colab": {
          "base_uri": "https://localhost:8080/"
        },
        "id": "A6mXGGY9-tNO",
        "outputId": "84dd33a4-4d32-4fea-8960-eccd50e1d1ba"
      },
      "execution_count": 53,
      "outputs": [
        {
          "output_type": "execute_result",
          "data": {
            "text/plain": [
              "array([1])"
            ]
          },
          "metadata": {},
          "execution_count": 53
        }
      ]
    },
    {
      "cell_type": "code",
      "source": [
        "plt.title(pipeline.predict(X_testf.iloc[[47]])[0])\n",
        "plt.imshow(X_testf.iloc[47].values.reshape(28,28))"
      ],
      "metadata": {
        "colab": {
          "base_uri": "https://localhost:8080/",
          "height": 470
        },
        "id": "Tx_7FmpQ_JIM",
        "outputId": "eed4b21d-bea9-4e82-9858-6e300c9c69c4"
      },
      "execution_count": 59,
      "outputs": [
        {
          "output_type": "execute_result",
          "data": {
            "text/plain": [
              "<matplotlib.image.AxesImage at 0x788d0fb1ac50>"
            ]
          },
          "metadata": {},
          "execution_count": 59
        },
        {
          "output_type": "display_data",
          "data": {
            "text/plain": [
              "<Figure size 640x480 with 1 Axes>"
            ],
            "image/png": "[encoded data removed]"
          },
          "metadata": {}
        }
      ]
    },
    {
      "cell_type": "code",
      "source": [],
      "metadata": {
        "id": "kYWdxY6w_a-1"
      },
      "execution_count": null,
      "outputs": []
    }
  ],
  "metadata": {
    "colab": {
      "provenance": []
    },
    "kernelspec": {
      "display_name": "Python 3",
      "name": "python3"
    },
    "language_info": {
      "name": "python"
    }
  },
  "nbformat": 4,
  "nbformat_minor": 0
}